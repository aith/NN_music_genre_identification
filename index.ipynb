{
 "cells": [
  {
   "cell_type": "code",
   "execution_count": 200,
   "metadata": {},
   "outputs": [],
   "source": [
    "# feature extraction and data preprocessing\n",
    "import librosa\n",
    "import pandas as pd\n",
    "import numpy as np\n",
    "import matplotlib.pyplot as plt\n",
    "%matplotlib inline\n",
    "import os\n",
    "from PIL import Image\n",
    "import pathlib\n",
    "import csv\n",
    "import numpy as np\n",
    "import IPython.display as ipd\n",
    "\n",
    "# Preprocessing\n",
    "from sklearn.model_selection import train_test_split\n",
    "from sklearn.preprocessing import LabelEncoder, StandardScaler\n",
    "\n",
    "#Keras\n",
    "import keras\n",
    "\n",
    "import warnings\n",
    "warnings.filterwarnings('ignore')"
   ]
  },
  {
   "cell_type": "markdown",
   "metadata": {},
   "source": [
    "# Acquire and Prepare Dataset\n",
    "- Read in audio features from the GTZAN dataset. (download from: https://www.kaggle.com/andradaolteanu/gtzan-dataset-music-genre-classification)"
   ]
  },
  {
   "cell_type": "code",
   "execution_count": 201,
   "metadata": {},
   "outputs": [
    {
     "data": {
      "text/plain": "          filename  length  chroma_stft_mean  chroma_stft_var  rms_mean  \\\n0  blues.00000.wav  661794          0.350088         0.088757  0.130228   \n1  blues.00001.wav  661794          0.340914         0.094980  0.095948   \n2  blues.00002.wav  661794          0.363637         0.085275  0.175570   \n3  blues.00003.wav  661794          0.404785         0.093999  0.141093   \n4  blues.00004.wav  661794          0.308526         0.087841  0.091529   \n\n    rms_var  spectral_centroid_mean  spectral_centroid_var  \\\n0  0.002827             1784.165850          129774.064525   \n1  0.002373             1530.176679          375850.073649   \n2  0.002746             1552.811865          156467.643368   \n3  0.006346             1070.106615          184355.942417   \n4  0.002303             1835.004266          343399.939274   \n\n   spectral_bandwidth_mean  spectral_bandwidth_var  ...  mfcc16_var  \\\n0              2002.449060            85882.761315  ...   52.420910   \n1              2039.036516           213843.755497  ...   55.356403   \n2              1747.702312            76254.192257  ...   40.598766   \n3              1596.412872           166441.494769  ...   44.427753   \n4              1748.172116            88445.209036  ...   86.099236   \n\n   mfcc17_mean  mfcc17_var  mfcc18_mean  mfcc18_var  mfcc19_mean  mfcc19_var  \\\n0    -1.690215   36.524071    -0.408979   41.597103    -2.303523   55.062923   \n1    -0.731125   60.314529     0.295073   48.120598    -0.283518   51.106190   \n2    -7.729093   47.639427    -1.816407   52.382141    -3.439720   46.639660   \n3    -3.319597   50.206673     0.636965   37.319130    -0.619121   37.259739   \n4    -5.454034   75.269707    -0.916874   53.613918    -4.404827   62.910812   \n\n   mfcc20_mean  mfcc20_var  label  \n0     1.221291   46.936035  blues  \n1     0.531217   45.786282  blues  \n2    -2.231258   30.573025  blues  \n3    -3.407448   31.949339  blues  \n4   -11.703234   55.195160  blues  \n\n[5 rows x 60 columns]",
      "text/html": "<div>\n<style scoped>\n    .dataframe tbody tr th:only-of-type {\n        vertical-align: middle;\n    }\n\n    .dataframe tbody tr th {\n        vertical-align: top;\n    }\n\n    .dataframe thead th {\n        text-align: right;\n    }\n</style>\n<table border=\"1\" class=\"dataframe\">\n  <thead>\n    <tr style=\"text-align: right;\">\n      <th></th>\n      <th>filename</th>\n      <th>length</th>\n      <th>chroma_stft_mean</th>\n      <th>chroma_stft_var</th>\n      <th>rms_mean</th>\n      <th>rms_var</th>\n      <th>spectral_centroid_mean</th>\n      <th>spectral_centroid_var</th>\n      <th>spectral_bandwidth_mean</th>\n      <th>spectral_bandwidth_var</th>\n      <th>...</th>\n      <th>mfcc16_var</th>\n      <th>mfcc17_mean</th>\n      <th>mfcc17_var</th>\n      <th>mfcc18_mean</th>\n      <th>mfcc18_var</th>\n      <th>mfcc19_mean</th>\n      <th>mfcc19_var</th>\n      <th>mfcc20_mean</th>\n      <th>mfcc20_var</th>\n      <th>label</th>\n    </tr>\n  </thead>\n  <tbody>\n    <tr>\n      <th>0</th>\n      <td>blues.00000.wav</td>\n      <td>661794</td>\n      <td>0.350088</td>\n      <td>0.088757</td>\n      <td>0.130228</td>\n      <td>0.002827</td>\n      <td>1784.165850</td>\n      <td>129774.064525</td>\n      <td>2002.449060</td>\n      <td>85882.761315</td>\n      <td>...</td>\n      <td>52.420910</td>\n      <td>-1.690215</td>\n      <td>36.524071</td>\n      <td>-0.408979</td>\n      <td>41.597103</td>\n      <td>-2.303523</td>\n      <td>55.062923</td>\n      <td>1.221291</td>\n      <td>46.936035</td>\n      <td>blues</td>\n    </tr>\n    <tr>\n      <th>1</th>\n      <td>blues.00001.wav</td>\n      <td>661794</td>\n      <td>0.340914</td>\n      <td>0.094980</td>\n      <td>0.095948</td>\n      <td>0.002373</td>\n      <td>1530.176679</td>\n      <td>375850.073649</td>\n      <td>2039.036516</td>\n      <td>213843.755497</td>\n      <td>...</td>\n      <td>55.356403</td>\n      <td>-0.731125</td>\n      <td>60.314529</td>\n      <td>0.295073</td>\n      <td>48.120598</td>\n      <td>-0.283518</td>\n      <td>51.106190</td>\n      <td>0.531217</td>\n      <td>45.786282</td>\n      <td>blues</td>\n    </tr>\n    <tr>\n      <th>2</th>\n      <td>blues.00002.wav</td>\n      <td>661794</td>\n      <td>0.363637</td>\n      <td>0.085275</td>\n      <td>0.175570</td>\n      <td>0.002746</td>\n      <td>1552.811865</td>\n      <td>156467.643368</td>\n      <td>1747.702312</td>\n      <td>76254.192257</td>\n      <td>...</td>\n      <td>40.598766</td>\n      <td>-7.729093</td>\n      <td>47.639427</td>\n      <td>-1.816407</td>\n      <td>52.382141</td>\n      <td>-3.439720</td>\n      <td>46.639660</td>\n      <td>-2.231258</td>\n      <td>30.573025</td>\n      <td>blues</td>\n    </tr>\n    <tr>\n      <th>3</th>\n      <td>blues.00003.wav</td>\n      <td>661794</td>\n      <td>0.404785</td>\n      <td>0.093999</td>\n      <td>0.141093</td>\n      <td>0.006346</td>\n      <td>1070.106615</td>\n      <td>184355.942417</td>\n      <td>1596.412872</td>\n      <td>166441.494769</td>\n      <td>...</td>\n      <td>44.427753</td>\n      <td>-3.319597</td>\n      <td>50.206673</td>\n      <td>0.636965</td>\n      <td>37.319130</td>\n      <td>-0.619121</td>\n      <td>37.259739</td>\n      <td>-3.407448</td>\n      <td>31.949339</td>\n      <td>blues</td>\n    </tr>\n    <tr>\n      <th>4</th>\n      <td>blues.00004.wav</td>\n      <td>661794</td>\n      <td>0.308526</td>\n      <td>0.087841</td>\n      <td>0.091529</td>\n      <td>0.002303</td>\n      <td>1835.004266</td>\n      <td>343399.939274</td>\n      <td>1748.172116</td>\n      <td>88445.209036</td>\n      <td>...</td>\n      <td>86.099236</td>\n      <td>-5.454034</td>\n      <td>75.269707</td>\n      <td>-0.916874</td>\n      <td>53.613918</td>\n      <td>-4.404827</td>\n      <td>62.910812</td>\n      <td>-11.703234</td>\n      <td>55.195160</td>\n      <td>blues</td>\n    </tr>\n  </tbody>\n</table>\n<p>5 rows × 60 columns</p>\n</div>"
     },
     "execution_count": 201,
     "metadata": {},
     "output_type": "execute_result"
    }
   ],
   "source": [
    "data = pd.read_csv('DATA/GTZAN/features_30_sec.csv')\n",
    "data.head()"
   ]
  },
  {
   "cell_type": "code",
   "execution_count": 202,
   "metadata": {},
   "outputs": [
    {
     "data": {
      "text/plain": "(1000, 60)"
     },
     "execution_count": 202,
     "metadata": {},
     "output_type": "execute_result"
    }
   ],
   "source": [
    "data.shape"
   ]
  },
  {
   "cell_type": "code",
   "execution_count": 203,
   "metadata": {},
   "outputs": [
    {
     "data": {
      "text/plain": "   chroma_stft_mean  chroma_stft_var  rms_mean   rms_var  \\\n0          0.350088         0.088757  0.130228  0.002827   \n1          0.340914         0.094980  0.095948  0.002373   \n2          0.363637         0.085275  0.175570  0.002746   \n3          0.404785         0.093999  0.141093  0.006346   \n4          0.308526         0.087841  0.091529  0.002303   \n\n   spectral_centroid_mean  spectral_centroid_var  spectral_bandwidth_mean  \\\n0             1784.165850          129774.064525              2002.449060   \n1             1530.176679          375850.073649              2039.036516   \n2             1552.811865          156467.643368              1747.702312   \n3             1070.106615          184355.942417              1596.412872   \n4             1835.004266          343399.939274              1748.172116   \n\n   spectral_bandwidth_var  rolloff_mean   rolloff_var  ...  mfcc16_mean  \\\n0            85882.761315   3805.839606  9.015054e+05  ...     0.752740   \n1           213843.755497   3550.522098  2.977893e+06  ...     0.927998   \n2            76254.192257   3042.260232  7.840345e+05  ...     2.451690   \n3           166441.494769   2184.745799  1.493194e+06  ...     0.780874   \n4            88445.209036   3579.757627  1.572978e+06  ...    -4.520576   \n\n   mfcc16_var  mfcc17_mean  mfcc17_var  mfcc18_mean  mfcc18_var  mfcc19_mean  \\\n0   52.420910    -1.690215   36.524071    -0.408979   41.597103    -2.303523   \n1   55.356403    -0.731125   60.314529     0.295073   48.120598    -0.283518   \n2   40.598766    -7.729093   47.639427    -1.816407   52.382141    -3.439720   \n3   44.427753    -3.319597   50.206673     0.636965   37.319130    -0.619121   \n4   86.099236    -5.454034   75.269707    -0.916874   53.613918    -4.404827   \n\n   mfcc19_var  mfcc20_mean  mfcc20_var  \n0   55.062923     1.221291   46.936035  \n1   51.106190     0.531217   45.786282  \n2   46.639660    -2.231258   30.573025  \n3   37.259739    -3.407448   31.949339  \n4   62.910812   -11.703234   55.195160  \n\n[5 rows x 52 columns]",
      "text/html": "<div>\n<style scoped>\n    .dataframe tbody tr th:only-of-type {\n        vertical-align: middle;\n    }\n\n    .dataframe tbody tr th {\n        vertical-align: top;\n    }\n\n    .dataframe thead th {\n        text-align: right;\n    }\n</style>\n<table border=\"1\" class=\"dataframe\">\n  <thead>\n    <tr style=\"text-align: right;\">\n      <th></th>\n      <th>chroma_stft_mean</th>\n      <th>chroma_stft_var</th>\n      <th>rms_mean</th>\n      <th>rms_var</th>\n      <th>spectral_centroid_mean</th>\n      <th>spectral_centroid_var</th>\n      <th>spectral_bandwidth_mean</th>\n      <th>spectral_bandwidth_var</th>\n      <th>rolloff_mean</th>\n      <th>rolloff_var</th>\n      <th>...</th>\n      <th>mfcc16_mean</th>\n      <th>mfcc16_var</th>\n      <th>mfcc17_mean</th>\n      <th>mfcc17_var</th>\n      <th>mfcc18_mean</th>\n      <th>mfcc18_var</th>\n      <th>mfcc19_mean</th>\n      <th>mfcc19_var</th>\n      <th>mfcc20_mean</th>\n      <th>mfcc20_var</th>\n    </tr>\n  </thead>\n  <tbody>\n    <tr>\n      <th>0</th>\n      <td>0.350088</td>\n      <td>0.088757</td>\n      <td>0.130228</td>\n      <td>0.002827</td>\n      <td>1784.165850</td>\n      <td>129774.064525</td>\n      <td>2002.449060</td>\n      <td>85882.761315</td>\n      <td>3805.839606</td>\n      <td>9.015054e+05</td>\n      <td>...</td>\n      <td>0.752740</td>\n      <td>52.420910</td>\n      <td>-1.690215</td>\n      <td>36.524071</td>\n      <td>-0.408979</td>\n      <td>41.597103</td>\n      <td>-2.303523</td>\n      <td>55.062923</td>\n      <td>1.221291</td>\n      <td>46.936035</td>\n    </tr>\n    <tr>\n      <th>1</th>\n      <td>0.340914</td>\n      <td>0.094980</td>\n      <td>0.095948</td>\n      <td>0.002373</td>\n      <td>1530.176679</td>\n      <td>375850.073649</td>\n      <td>2039.036516</td>\n      <td>213843.755497</td>\n      <td>3550.522098</td>\n      <td>2.977893e+06</td>\n      <td>...</td>\n      <td>0.927998</td>\n      <td>55.356403</td>\n      <td>-0.731125</td>\n      <td>60.314529</td>\n      <td>0.295073</td>\n      <td>48.120598</td>\n      <td>-0.283518</td>\n      <td>51.106190</td>\n      <td>0.531217</td>\n      <td>45.786282</td>\n    </tr>\n    <tr>\n      <th>2</th>\n      <td>0.363637</td>\n      <td>0.085275</td>\n      <td>0.175570</td>\n      <td>0.002746</td>\n      <td>1552.811865</td>\n      <td>156467.643368</td>\n      <td>1747.702312</td>\n      <td>76254.192257</td>\n      <td>3042.260232</td>\n      <td>7.840345e+05</td>\n      <td>...</td>\n      <td>2.451690</td>\n      <td>40.598766</td>\n      <td>-7.729093</td>\n      <td>47.639427</td>\n      <td>-1.816407</td>\n      <td>52.382141</td>\n      <td>-3.439720</td>\n      <td>46.639660</td>\n      <td>-2.231258</td>\n      <td>30.573025</td>\n    </tr>\n    <tr>\n      <th>3</th>\n      <td>0.404785</td>\n      <td>0.093999</td>\n      <td>0.141093</td>\n      <td>0.006346</td>\n      <td>1070.106615</td>\n      <td>184355.942417</td>\n      <td>1596.412872</td>\n      <td>166441.494769</td>\n      <td>2184.745799</td>\n      <td>1.493194e+06</td>\n      <td>...</td>\n      <td>0.780874</td>\n      <td>44.427753</td>\n      <td>-3.319597</td>\n      <td>50.206673</td>\n      <td>0.636965</td>\n      <td>37.319130</td>\n      <td>-0.619121</td>\n      <td>37.259739</td>\n      <td>-3.407448</td>\n      <td>31.949339</td>\n    </tr>\n    <tr>\n      <th>4</th>\n      <td>0.308526</td>\n      <td>0.087841</td>\n      <td>0.091529</td>\n      <td>0.002303</td>\n      <td>1835.004266</td>\n      <td>343399.939274</td>\n      <td>1748.172116</td>\n      <td>88445.209036</td>\n      <td>3579.757627</td>\n      <td>1.572978e+06</td>\n      <td>...</td>\n      <td>-4.520576</td>\n      <td>86.099236</td>\n      <td>-5.454034</td>\n      <td>75.269707</td>\n      <td>-0.916874</td>\n      <td>53.613918</td>\n      <td>-4.404827</td>\n      <td>62.910812</td>\n      <td>-11.703234</td>\n      <td>55.195160</td>\n    </tr>\n  </tbody>\n</table>\n<p>5 rows × 52 columns</p>\n</div>"
     },
     "execution_count": 203,
     "metadata": {},
     "output_type": "execute_result"
    }
   ],
   "source": [
    "# Dropping unneccesary columns\n",
    "genre_list = data.iloc[:, -1]\n",
    "data = data.drop(['filename', 'length',  'harmony_mean', 'harmony_var', 'perceptr_mean', 'perceptr_var', 'tempo'],axis=1)\n",
    "data = data.drop(['label'],axis=1)\n",
    "data.head()"
   ]
  },
  {
   "cell_type": "markdown",
   "metadata": {},
   "source": [
    "### Get the genre list. We'll use it later to calculate the error"
   ]
  },
  {
   "cell_type": "code",
   "execution_count": 204,
   "metadata": {},
   "outputs": [],
   "source": [
    "genres_ordered = ['blues', 'classical', 'country', 'disco', 'hiphop', 'jazz', 'metal', 'pop', 'reggae', 'rock']\n",
    "encoder = LabelEncoder()\n",
    "y = encoder.fit_transform(genre_list)"
   ]
  },
  {
   "cell_type": "code",
   "execution_count": 205,
   "metadata": {},
   "outputs": [
    {
     "data": {
      "text/plain": "array([[-0.35013678,  0.31258717, -0.01068969, ...,  0.00672291,\n        -0.30059734,  0.60406407],\n       [-0.46248155,  1.11757233, -0.53285232, ...,  0.54480563,\n        -0.40708699,  0.42412706],\n       [-0.18422456, -0.13770124,  0.67997762, ..., -0.29593404,\n        -0.52729705, -0.29618888],\n       ...,\n       [ 0.65463736, -1.43198917, -0.75062494, ..., -2.73284378,\n        -0.63865065, -0.26361549],\n       [-0.19833855,  0.66814351, -0.71697762, ..., -0.72271696,\n        -0.5114848 , -0.65064889],\n       [-0.2483391 , -0.05894495, -1.1648952 , ...,  0.08070645,\n         0.16033426,  0.5868411 ]])"
     },
     "execution_count": 205,
     "metadata": {},
     "output_type": "execute_result"
    }
   ],
   "source": [
    "scaler = StandardScaler()\n",
    "X_arr = np.array(data.iloc[:, :-1], dtype = float)\n",
    "X = scaler.fit_transform(X_arr)\n",
    "X"
   ]
  },
  {
   "cell_type": "markdown",
   "source": [
    "# Setup Training vs Testing Data\n",
    "- Dividing data into training and Testing set"
   ],
   "metadata": {
    "collapsed": false
   }
  },
  {
   "cell_type": "code",
   "execution_count": 206,
   "metadata": {},
   "outputs": [],
   "source": [
    "X_train, X_test, y_train, y_test = train_test_split(X, y, test_size=0.2)"
   ]
  },
  {
   "cell_type": "code",
   "execution_count": 207,
   "metadata": {},
   "outputs": [
    {
     "data": {
      "text/plain": "800"
     },
     "execution_count": 207,
     "metadata": {},
     "output_type": "execute_result"
    }
   ],
   "source": [
    "len(y_train)"
   ]
  },
  {
   "cell_type": "code",
   "execution_count": 208,
   "metadata": {},
   "outputs": [
    {
     "data": {
      "text/plain": "200"
     },
     "execution_count": 208,
     "metadata": {},
     "output_type": "execute_result"
    }
   ],
   "source": [
    "len(y_test)"
   ]
  },
  {
   "cell_type": "code",
   "execution_count": 209,
   "metadata": {},
   "outputs": [
    {
     "data": {
      "text/plain": "array([ 0.64468403,  0.31965862,  1.58319774,  3.8178156 ,  1.8286    ,\n        2.13140695,  1.72196131,  0.40201976,  1.70515201,  1.36852215,\n        1.63504985,  2.70011217,  1.01467115,  1.54023377, -1.42633869,\n        0.92518843,  1.19751093, -0.08218568, -0.9905032 ,  0.99567326,\n        0.65557728,  0.21145343, -1.002249  ,  1.90743523,  1.70634453,\n        0.69594474, -0.85196625,  0.85545223,  1.80417942,  0.13755236,\n       -0.83176804,  0.41597102,  0.28496323, -0.12699305, -0.64772396,\n       -0.17268251,  0.09011084,  0.06928128, -1.2456496 ,  0.12985688,\n        0.27844974, -0.14929141, -0.88292683, -0.30101456,  1.00570128,\n        0.2381269 ,  0.09783079, -0.09698539,  1.23642637,  0.28056403,\n        0.78828072])"
     },
     "execution_count": 209,
     "metadata": {},
     "output_type": "execute_result"
    }
   ],
   "source": [
    "X_train[10]"
   ]
  },
  {
   "cell_type": "markdown",
   "metadata": {},
   "source": [
    "# Setup Network Arhitecture\n",
    "- We setup a feed forward deep learning neural network.\n",
    "- It has 5 densely connected layers. The 1st 4 layers have relu activation, and the final layer is softmax.\n",
    "- We have one layer for each genre"
   ]
  },
  {
   "cell_type": "code",
   "execution_count": 210,
   "metadata": {},
   "outputs": [],
   "source": [
    "from keras import models\n",
    "from keras import layers\n",
    "\n",
    "model = models.Sequential()\n",
    "model.add(layers.Dense(512, activation='relu', input_shape=(X_train.shape[1],)))\n",
    "\n",
    "model.add(layers.Dense(256, activation='relu'))\n",
    "\n",
    "model.add(layers.Dense(128, activation='relu'))\n",
    "\n",
    "model.add(layers.Dense(64, activation='relu'))\n",
    "\n",
    "model.add(layers.Dense(10, activation='softmax'))  # Last layer, finds the most probable genre"
   ]
  },
  {
   "cell_type": "markdown",
   "metadata": {},
   "source": [
    "# Define Network Loss and Optimization"
   ]
  },
  {
   "cell_type": "code",
   "execution_count": 211,
   "metadata": {},
   "outputs": [],
   "source": [
    "model.compile(optimizer='adam',\n",
    "              loss='sparse_categorical_crossentropy',\n",
    "              metrics=['accuracy'])"
   ]
  },
  {
   "cell_type": "markdown",
   "metadata": {},
   "source": [
    "# Train the network\n",
    "- We set a batch size of 256 and train for 80 epochs"
   ]
  },
  {
   "cell_type": "code",
   "execution_count": 212,
   "metadata": {},
   "outputs": [
    {
     "name": "stdout",
     "output_type": "stream",
     "text": [
      "Epoch 1/80\n",
      "4/4 [==============================] - 0s 4ms/step - loss: 2.2124 - accuracy: 0.2219\b\b\b\b\b\b\b\b\b\b\b\b\b\b\b\b\b\b\b\b\b\b\b\b\b\b\b\b\b\b\b\b\b\b\b\b\b\b\b\b\b\b\b\b\b\b\b\b\b\b\b\b\b\b\b\b\b\b\b\b\b\b\b\b\b\b\b\b\b\b\b\b\b\b\b\b\n",
      "Epoch 2/80\n",
      "4/4 [==============================] - 0s 4ms/step - loss: 1.7787 - accuracy: 0.3942\b\b\b\b\b\b\b\b\b\b\b\b\b\b\b\b\b\b\b\b\b\b\b\b\b\b\b\b\b\b\b\b\b\b\b\b\b\b\b\b\b\b\b\b\b\b\b\b\b\b\b\b\b\b\b\b\b\b\b\b\b\b\b\b\b\b\b\b\b\b\b\b\b\b\b\b\n",
      "Epoch 3/80\n",
      "4/4 [==============================] - 0s 4ms/step - loss: 1.4707 - accuracy: 0.5184\b\b\b\b\b\b\b\b\b\b\b\b\b\b\b\b\b\b\b\b\b\b\b\b\b\b\b\b\b\b\b\b\b\b\b\b\b\b\b\b\b\b\b\b\b\b\b\b\b\b\b\b\b\b\b\b\b\b\b\b\b\b\b\b\b\b\b\b\b\b\b\b\b\b\b\b\n",
      "Epoch 4/80\n",
      "4/4 [==============================] - 0s 4ms/step - loss: 1.2292 - accuracy: 0.6181\b\b\b\b\b\b\b\b\b\b\b\b\b\b\b\b\b\b\b\b\b\b\b\b\b\b\b\b\b\b\b\b\b\b\b\b\b\b\b\b\b\b\b\b\b\b\b\b\b\b\b\b\b\b\b\b\b\b\b\b\b\b\b\b\b\b\b\b\b\b\b\b\b\b\b\b\n",
      "Epoch 5/80\n",
      "4/4 [==============================] - 0s 4ms/step - loss: 1.0917 - accuracy: 0.6156\b\b\b\b\b\b\b\b\b\b\b\b\b\b\b\b\b\b\b\b\b\b\b\b\b\b\b\b\b\b\b\b\b\b\b\b\b\b\b\b\b\b\b\b\b\b\b\b\b\b\b\b\b\b\b\b\b\b\b\b\b\b\b\b\b\b\b\b\b\b\b\b\b\b\b\b\n",
      "Epoch 6/80\n",
      "4/4 [==============================] - 0s 5ms/step - loss: 0.9378 - accuracy: 0.6860\b\b\b\b\b\b\b\b\b\b\b\b\b\b\b\b\b\b\b\b\b\b\b\b\b\b\b\b\b\b\b\b\b\b\b\b\b\b\b\b\b\b\b\b\b\b\b\b\b\b\b\b\b\b\b\b\b\b\b\b\b\b\b\b\b\b\b\b\b\b\b\b\b\b\b\b\n",
      "Epoch 7/80\n",
      "4/4 [==============================] - 0s 4ms/step - loss: 0.8435 - accuracy: 0.7334\b\b\b\b\b\b\b\b\b\b\b\b\b\b\b\b\b\b\b\b\b\b\b\b\b\b\b\b\b\b\b\b\b\b\b\b\b\b\b\b\b\b\b\b\b\b\b\b\b\b\b\b\b\b\b\b\b\b\b\b\b\b\b\b\b\b\b\b\b\b\b\b\b\b\b\b\n",
      "Epoch 8/80\n",
      "4/4 [==============================] - 0s 4ms/step - loss: 0.7573 - accuracy: 0.7506\b\b\b\b\b\b\b\b\b\b\b\b\b\b\b\b\b\b\b\b\b\b\b\b\b\b\b\b\b\b\b\b\b\b\b\b\b\b\b\b\b\b\b\b\b\b\b\b\b\b\b\b\b\b\b\b\b\b\b\b\b\b\b\b\b\b\b\b\b\b\b\b\b\b\b\b\n",
      "Epoch 9/80\n",
      "4/4 [==============================] - 0s 4ms/step - loss: 0.7170 - accuracy: 0.7661\b\b\b\b\b\b\b\b\b\b\b\b\b\b\b\b\b\b\b\b\b\b\b\b\b\b\b\b\b\b\b\b\b\b\b\b\b\b\b\b\b\b\b\b\b\b\b\b\b\b\b\b\b\b\b\b\b\b\b\b\b\b\b\b\b\b\b\b\b\b\b\b\b\b\b\b\n",
      "Epoch 10/80\n",
      "4/4 [==============================] - 0s 4ms/step - loss: 0.6331 - accuracy: 0.7977\b\b\b\b\b\b\b\b\b\b\b\b\b\b\b\b\b\b\b\b\b\b\b\b\b\b\b\b\b\b\b\b\b\b\b\b\b\b\b\b\b\b\b\b\b\b\b\b\b\b\b\b\b\b\b\b\b\b\b\b\b\b\b\b\b\b\b\b\b\b\b\b\b\b\b\b\n",
      "Epoch 11/80\n",
      "4/4 [==============================] - 0s 5ms/step - loss: 0.5717 - accuracy: 0.8104\b\b\b\b\b\b\b\b\b\b\b\b\b\b\b\b\b\b\b\b\b\b\b\b\b\b\b\b\b\b\b\b\b\b\b\b\b\b\b\b\b\b\b\b\b\b\b\b\b\b\b\b\b\b\b\b\b\b\b\b\b\b\b\b\b\b\b\b\b\b\b\b\b\b\b\b\n",
      "Epoch 12/80\n",
      "4/4 [==============================] - 0s 3ms/step - loss: 0.5275 - accuracy: 0.8203\b\b\b\b\b\b\b\b\b\b\b\b\b\b\b\b\b\b\b\b\b\b\b\b\b\b\b\b\b\b\b\b\b\b\b\b\b\b\b\b\b\b\b\b\b\b\b\b\b\b\b\b\b\b\b\b\b\b\b\b\b\b\b\b\b\b\b\b\b\b\b\b\b\b\b\b\n",
      "Epoch 13/80\n",
      "4/4 [==============================] - 0s 5ms/step - loss: 0.4725 - accuracy: 0.8377\b\b\b\b\b\b\b\b\b\b\b\b\b\b\b\b\b\b\b\b\b\b\b\b\b\b\b\b\b\b\b\b\b\b\b\b\b\b\b\b\b\b\b\b\b\b\b\b\b\b\b\b\b\b\b\b\b\b\b\b\b\b\b\b\b\b\b\b\b\b\b\b\b\b\b\b\n",
      "Epoch 14/80\n",
      "4/4 [==============================] - 0s 4ms/step - loss: 0.4484 - accuracy: 0.8583\b\b\b\b\b\b\b\b\b\b\b\b\b\b\b\b\b\b\b\b\b\b\b\b\b\b\b\b\b\b\b\b\b\b\b\b\b\b\b\b\b\b\b\b\b\b\b\b\b\b\b\b\b\b\b\b\b\b\b\b\b\b\b\b\b\b\b\b\b\b\b\b\b\b\b\b\n",
      "Epoch 15/80\n",
      "4/4 [==============================] - 0s 5ms/step - loss: 0.3729 - accuracy: 0.8896\b\b\b\b\b\b\b\b\b\b\b\b\b\b\b\b\b\b\b\b\b\b\b\b\b\b\b\b\b\b\b\b\b\b\b\b\b\b\b\b\b\b\b\b\b\b\b\b\b\b\b\b\b\b\b\b\b\b\b\b\b\b\b\b\b\b\b\b\b\b\b\b\b\b\b\b\n",
      "Epoch 16/80\n",
      "4/4 [==============================] - 0s 8ms/step - loss: 0.3515 - accuracy: 0.8955\b\b\b\b\b\b\b\b\b\b\b\b\b\b\b\b\b\b\b\b\b\b\b\b\b\b\b\b\b\b\b\b\b\b\b\b\b\b\b\b\b\b\b\b\b\b\b\b\b\b\b\b\b\b\b\b\b\b\b\b\b\b\b\b\b\b\b\b\b\b\b\b\b\b\b\b\n",
      "Epoch 17/80\n",
      "4/4 [==============================] - 0s 5ms/step - loss: 0.3132 - accuracy: 0.9003\b\b\b\b\b\b\b\b\b\b\b\b\b\b\b\b\b\b\b\b\b\b\b\b\b\b\b\b\b\b\b\b\b\b\b\b\b\b\b\b\b\b\b\b\b\b\b\b\b\b\b\b\b\b\b\b\b\b\b\b\b\b\b\b\b\b\b\b\b\b\b\b\b\b\b\b\n",
      "Epoch 18/80\n",
      "4/4 [==============================] - 0s 5ms/step - loss: 0.2697 - accuracy: 0.9238\b\b\b\b\b\b\b\b\b\b\b\b\b\b\b\b\b\b\b\b\b\b\b\b\b\b\b\b\b\b\b\b\b\b\b\b\b\b\b\b\b\b\b\b\b\b\b\b\b\b\b\b\b\b\b\b\b\b\b\b\b\b\b\b\b\b\b\b\b\b\b\b\b\b\b\b\n",
      "Epoch 19/80\n",
      "4/4 [==============================] - 0s 4ms/step - loss: 0.2704 - accuracy: 0.9301\b\b\b\b\b\b\b\b\b\b\b\b\b\b\b\b\b\b\b\b\b\b\b\b\b\b\b\b\b\b\b\b\b\b\b\b\b\b\b\b\b\b\b\b\b\b\b\b\b\b\b\b\b\b\b\b\b\b\b\b\b\b\b\b\b\b\b\b\b\b\b\b\b\b\b\b\n",
      "Epoch 20/80\n",
      "4/4 [==============================] - 0s 6ms/step - loss: 0.2371 - accuracy: 0.9445\b\b\b\b\b\b\b\b\b\b\b\b\b\b\b\b\b\b\b\b\b\b\b\b\b\b\b\b\b\b\b\b\b\b\b\b\b\b\b\b\b\b\b\b\b\b\b\b\b\b\b\b\b\b\b\b\b\b\b\b\b\b\b\b\b\b\b\b\b\b\b\b\b\b\b\b\n",
      "Epoch 21/80\n",
      "4/4 [==============================] - 0s 4ms/step - loss: 0.2378 - accuracy: 0.9291\b\b\b\b\b\b\b\b\b\b\b\b\b\b\b\b\b\b\b\b\b\b\b\b\b\b\b\b\b\b\b\b\b\b\b\b\b\b\b\b\b\b\b\b\b\b\b\b\b\b\b\b\b\b\b\b\b\b\b\b\b\b\b\b\b\b\b\b\b\b\b\b\b\b\b\b\n",
      "Epoch 22/80\n",
      "4/4 [==============================] - 0s 5ms/step - loss: 0.2089 - accuracy: 0.9570\b\b\b\b\b\b\b\b\b\b\b\b\b\b\b\b\b\b\b\b\b\b\b\b\b\b\b\b\b\b\b\b\b\b\b\b\b\b\b\b\b\b\b\b\b\b\b\b\b\b\b\b\b\b\b\b\b\b\b\b\b\b\b\b\b\b\b\b\b\b\b\b\b\b\b\b\n",
      "Epoch 23/80\n",
      "4/4 [==============================] - 0s 5ms/step - loss: 0.1775 - accuracy: 0.9613\b\b\b\b\b\b\b\b\b\b\b\b\b\b\b\b\b\b\b\b\b\b\b\b\b\b\b\b\b\b\b\b\b\b\b\b\b\b\b\b\b\b\b\b\b\b\b\b\b\b\b\b\b\b\b\b\b\b\b\b\b\b\b\b\b\b\b\b\b\b\b\b\b\b\b\b\n",
      "Epoch 24/80\n",
      "4/4 [==============================] - 0s 4ms/step - loss: 0.1832 - accuracy: 0.9532\b\b\b\b\b\b\b\b\b\b\b\b\b\b\b\b\b\b\b\b\b\b\b\b\b\b\b\b\b\b\b\b\b\b\b\b\b\b\b\b\b\b\b\b\b\b\b\b\b\b\b\b\b\b\b\b\b\b\b\b\b\b\b\b\b\b\b\b\b\b\b\b\b\b\b\b\n",
      "Epoch 25/80\n",
      "4/4 [==============================] - 0s 4ms/step - loss: 0.1693 - accuracy: 0.9573\b\b\b\b\b\b\b\b\b\b\b\b\b\b\b\b\b\b\b\b\b\b\b\b\b\b\b\b\b\b\b\b\b\b\b\b\b\b\b\b\b\b\b\b\b\b\b\b\b\b\b\b\b\b\b\b\b\b\b\b\b\b\b\b\b\b\b\b\b\b\b\b\b\b\b\b\n",
      "Epoch 26/80\n",
      "4/4 [==============================] - 0s 4ms/step - loss: 0.1777 - accuracy: 0.9503\b\b\b\b\b\b\b\b\b\b\b\b\b\b\b\b\b\b\b\b\b\b\b\b\b\b\b\b\b\b\b\b\b\b\b\b\b\b\b\b\b\b\b\b\b\b\b\b\b\b\b\b\b\b\b\b\b\b\b\b\b\b\b\b\b\b\b\b\b\b\b\b\b\b\b\b\n",
      "Epoch 27/80\n",
      "4/4 [==============================] - 0s 4ms/step - loss: 0.1542 - accuracy: 0.9595\b\b\b\b\b\b\b\b\b\b\b\b\b\b\b\b\b\b\b\b\b\b\b\b\b\b\b\b\b\b\b\b\b\b\b\b\b\b\b\b\b\b\b\b\b\b\b\b\b\b\b\b\b\b\b\b\b\b\b\b\b\b\b\b\b\b\b\b\b\b\b\b\b\b\b\b\n",
      "Epoch 28/80\n",
      "4/4 [==============================] - 0s 5ms/step - loss: 0.1274 - accuracy: 0.9753\b\b\b\b\b\b\b\b\b\b\b\b\b\b\b\b\b\b\b\b\b\b\b\b\b\b\b\b\b\b\b\b\b\b\b\b\b\b\b\b\b\b\b\b\b\b\b\b\b\b\b\b\b\b\b\b\b\b\b\b\b\b\b\b\b\b\b\b\b\b\b\b\b\b\b\b\n",
      "Epoch 29/80\n",
      "4/4 [==============================] - 0s 3ms/step - loss: 0.1173 - accuracy: 0.9726\b\b\b\b\b\b\b\b\b\b\b\b\b\b\b\b\b\b\b\b\b\b\b\b\b\b\b\b\b\b\b\b\b\b\b\b\b\b\b\b\b\b\b\b\b\b\b\b\b\b\b\b\b\b\b\b\b\b\b\b\b\b\b\b\b\b\b\b\b\b\b\b\b\b\b\b\n",
      "Epoch 30/80\n",
      "4/4 [==============================] - 0s 4ms/step - loss: 0.1124 - accuracy: 0.9849\b\b\b\b\b\b\b\b\b\b\b\b\b\b\b\b\b\b\b\b\b\b\b\b\b\b\b\b\b\b\b\b\b\b\b\b\b\b\b\b\b\b\b\b\b\b\b\b\b\b\b\b\b\b\b\b\b\b\b\b\b\b\b\b\b\b\b\b\b\b\b\b\b\b\b\b\n",
      "Epoch 31/80\n",
      "4/4 [==============================] - 0s 5ms/step - loss: 0.1096 - accuracy: 0.9724\b\b\b\b\b\b\b\b\b\b\b\b\b\b\b\b\b\b\b\b\b\b\b\b\b\b\b\b\b\b\b\b\b\b\b\b\b\b\b\b\b\b\b\b\b\b\b\b\b\b\b\b\b\b\b\b\b\b\b\b\b\b\b\b\b\b\b\b\b\b\b\b\b\b\b\b\n",
      "Epoch 32/80\n",
      "4/4 [==============================] - 0s 4ms/step - loss: 0.0912 - accuracy: 0.9862\b\b\b\b\b\b\b\b\b\b\b\b\b\b\b\b\b\b\b\b\b\b\b\b\b\b\b\b\b\b\b\b\b\b\b\b\b\b\b\b\b\b\b\b\b\b\b\b\b\b\b\b\b\b\b\b\b\b\b\b\b\b\b\b\b\b\b\b\b\b\b\b\b\b\b\b\n",
      "Epoch 33/80\n",
      "4/4 [==============================] - 0s 4ms/step - loss: 0.0814 - accuracy: 0.9838\b\b\b\b\b\b\b\b\b\b\b\b\b\b\b\b\b\b\b\b\b\b\b\b\b\b\b\b\b\b\b\b\b\b\b\b\b\b\b\b\b\b\b\b\b\b\b\b\b\b\b\b\b\b\b\b\b\b\b\b\b\b\b\b\b\b\b\b\b\b\b\b\b\b\b\b\n",
      "Epoch 34/80\n",
      "4/4 [==============================] - 0s 3ms/step - loss: 0.0675 - accuracy: 0.9877\b\b\b\b\b\b\b\b\b\b\b\b\b\b\b\b\b\b\b\b\b\b\b\b\b\b\b\b\b\b\b\b\b\b\b\b\b\b\b\b\b\b\b\b\b\b\b\b\b\b\b\b\b\b\b\b\b\b\b\b\b\b\b\b\b\b\b\b\b\b\b\b\b\b\b\b\n",
      "Epoch 35/80\n",
      "4/4 [==============================] - 0s 4ms/step - loss: 0.0603 - accuracy: 0.9966\b\b\b\b\b\b\b\b\b\b\b\b\b\b\b\b\b\b\b\b\b\b\b\b\b\b\b\b\b\b\b\b\b\b\b\b\b\b\b\b\b\b\b\b\b\b\b\b\b\b\b\b\b\b\b\b\b\b\b\b\b\b\b\b\b\b\b\b\b\b\b\b\b\b\b\b\n",
      "Epoch 36/80\n",
      "4/4 [==============================] - 0s 4ms/step - loss: 0.0573 - accuracy: 0.9981\b\b\b\b\b\b\b\b\b\b\b\b\b\b\b\b\b\b\b\b\b\b\b\b\b\b\b\b\b\b\b\b\b\b\b\b\b\b\b\b\b\b\b\b\b\b\b\b\b\b\b\b\b\b\b\b\b\b\b\b\b\b\b\b\b\b\b\b\b\b\b\b\b\b\b\b\n",
      "Epoch 37/80\n",
      "4/4 [==============================] - 0s 4ms/step - loss: 0.0500 - accuracy: 0.9954\b\b\b\b\b\b\b\b\b\b\b\b\b\b\b\b\b\b\b\b\b\b\b\b\b\b\b\b\b\b\b\b\b\b\b\b\b\b\b\b\b\b\b\b\b\b\b\b\b\b\b\b\b\b\b\b\b\b\b\b\b\b\b\b\b\b\b\b\b\b\b\b\b\b\b\b\n",
      "Epoch 38/80\n",
      "4/4 [==============================] - 0s 4ms/step - loss: 0.0494 - accuracy: 0.9962\b\b\b\b\b\b\b\b\b\b\b\b\b\b\b\b\b\b\b\b\b\b\b\b\b\b\b\b\b\b\b\b\b\b\b\b\b\b\b\b\b\b\b\b\b\b\b\b\b\b\b\b\b\b\b\b\b\b\b\b\b\b\b\b\b\b\b\b\b\b\b\b\b\b\b\b\n",
      "Epoch 39/80\n",
      "4/4 [==============================] - 0s 4ms/step - loss: 0.0429 - accuracy: 0.9977\b\b\b\b\b\b\b\b\b\b\b\b\b\b\b\b\b\b\b\b\b\b\b\b\b\b\b\b\b\b\b\b\b\b\b\b\b\b\b\b\b\b\b\b\b\b\b\b\b\b\b\b\b\b\b\b\b\b\b\b\b\b\b\b\b\b\b\b\b\b\b\b\b\b\b\b\n",
      "Epoch 40/80\n",
      "4/4 [==============================] - 0s 5ms/step - loss: 0.0422 - accuracy: 0.9945\b\b\b\b\b\b\b\b\b\b\b\b\b\b\b\b\b\b\b\b\b\b\b\b\b\b\b\b\b\b\b\b\b\b\b\b\b\b\b\b\b\b\b\b\b\b\b\b\b\b\b\b\b\b\b\b\b\b\b\b\b\b\b\b\b\b\b\b\b\b\b\b\b\b\b\b\n",
      "Epoch 41/80\n",
      "4/4 [==============================] - 0s 7ms/step - loss: 0.0691 - accuracy: 0.9838\b\b\b\b\b\b\b\b\b\b\b\b\b\b\b\b\b\b\b\b\b\b\b\b\b\b\b\b\b\b\b\b\b\b\b\b\b\b\b\b\b\b\b\b\b\b\b\b\b\b\b\b\b\b\b\b\b\b\b\b\b\b\b\b\b\b\b\b\b\b\b\b\b\b\b\b\n",
      "Epoch 42/80\n",
      "4/4 [==============================] - 0s 4ms/step - loss: 0.0688 - accuracy: 0.9854\b\b\b\b\b\b\b\b\b\b\b\b\b\b\b\b\b\b\b\b\b\b\b\b\b\b\b\b\b\b\b\b\b\b\b\b\b\b\b\b\b\b\b\b\b\b\b\b\b\b\b\b\b\b\b\b\b\b\b\b\b\b\b\b\b\b\b\b\b\b\b\b\b\b\b\b\n",
      "Epoch 43/80\n",
      "4/4 [==============================] - 0s 4ms/step - loss: 0.0417 - accuracy: 0.9963\b\b\b\b\b\b\b\b\b\b\b\b\b\b\b\b\b\b\b\b\b\b\b\b\b\b\b\b\b\b\b\b\b\b\b\b\b\b\b\b\b\b\b\b\b\b\b\b\b\b\b\b\b\b\b\b\b\b\b\b\b\b\b\b\b\b\b\b\b\b\b\b\b\b\b\b\n",
      "Epoch 44/80\n",
      "4/4 [==============================] - 0s 4ms/step - loss: 0.0596 - accuracy: 0.9855\b\b\b\b\b\b\b\b\b\b\b\b\b\b\b\b\b\b\b\b\b\b\b\b\b\b\b\b\b\b\b\b\b\b\b\b\b\b\b\b\b\b\b\b\b\b\b\b\b\b\b\b\b\b\b\b\b\b\b\b\b\b\b\b\b\b\b\b\b\b\b\b\b\b\b\b\n",
      "Epoch 45/80\n",
      "4/4 [==============================] - 0s 4ms/step - loss: 0.0433 - accuracy: 0.9903\b\b\b\b\b\b\b\b\b\b\b\b\b\b\b\b\b\b\b\b\b\b\b\b\b\b\b\b\b\b\b\b\b\b\b\b\b\b\b\b\b\b\b\b\b\b\b\b\b\b\b\b\b\b\b\b\b\b\b\b\b\b\b\b\b\b\b\b\b\b\b\b\b\b\b\b\n",
      "Epoch 46/80\n",
      "4/4 [==============================] - 0s 4ms/step - loss: 0.0351 - accuracy: 0.9954\b\b\b\b\b\b\b\b\b\b\b\b\b\b\b\b\b\b\b\b\b\b\b\b\b\b\b\b\b\b\b\b\b\b\b\b\b\b\b\b\b\b\b\b\b\b\b\b\b\b\b\b\b\b\b\b\b\b\b\b\b\b\b\b\b\b\b\b\b\b\b\b\b\b\b\b\n",
      "Epoch 47/80\n",
      "4/4 [==============================] - 0s 4ms/step - loss: 0.0483 - accuracy: 0.9954\b\b\b\b\b\b\b\b\b\b\b\b\b\b\b\b\b\b\b\b\b\b\b\b\b\b\b\b\b\b\b\b\b\b\b\b\b\b\b\b\b\b\b\b\b\b\b\b\b\b\b\b\b\b\b\b\b\b\b\b\b\b\b\b\b\b\b\b\b\b\b\b\b\b\b\b\n",
      "Epoch 48/80\n",
      "4/4 [==============================] - 0s 5ms/step - loss: 0.0352 - accuracy: 0.9973\b\b\b\b\b\b\b\b\b\b\b\b\b\b\b\b\b\b\b\b\b\b\b\b\b\b\b\b\b\b\b\b\b\b\b\b\b\b\b\b\b\b\b\b\b\b\b\b\b\b\b\b\b\b\b\b\b\b\b\b\b\b\b\b\b\b\b\b\b\b\b\b\b\b\b\b\n",
      "Epoch 49/80\n",
      "4/4 [==============================] - 0s 6ms/step - loss: 0.0285 - accuracy: 0.9965\b\b\b\b\b\b\b\b\b\b\b\b\b\b\b\b\b\b\b\b\b\b\b\b\b\b\b\b\b\b\b\b\b\b\b\b\b\b\b\b\b\b\b\b\b\b\b\b\b\b\b\b\b\b\b\b\b\b\b\b\b\b\b\b\b\b\b\b\b\b\b\b\b\b\b\b\n",
      "Epoch 50/80\n",
      "4/4 [==============================] - 0s 5ms/step - loss: 0.0392 - accuracy: 0.9942\b\b\b\b\b\b\b\b\b\b\b\b\b\b\b\b\b\b\b\b\b\b\b\b\b\b\b\b\b\b\b\b\b\b\b\b\b\b\b\b\b\b\b\b\b\b\b\b\b\b\b\b\b\b\b\b\b\b\b\b\b\b\b\b\b\b\b\b\b\b\b\b\b\b\b\b\n",
      "Epoch 51/80\n",
      "4/4 [==============================] - 0s 5ms/step - loss: 0.0268 - accuracy: 0.9950\b\b\b\b\b\b\b\b\b\b\b\b\b\b\b\b\b\b\b\b\b\b\b\b\b\b\b\b\b\b\b\b\b\b\b\b\b\b\b\b\b\b\b\b\b\b\b\b\b\b\b\b\b\b\b\b\b\b\b\b\b\b\b\b\b\b\b\b\b\b\b\b\b\b\b\b\n",
      "Epoch 52/80\n",
      "4/4 [==============================] - 0s 5ms/step - loss: 0.0219 - accuracy: 0.9988\b\b\b\b\b\b\b\b\b\b\b\b\b\b\b\b\b\b\b\b\b\b\b\b\b\b\b\b\b\b\b\b\b\b\b\b\b\b\b\b\b\b\b\b\b\b\b\b\b\b\b\b\b\b\b\b\b\b\b\b\b\b\b\b\b\b\b\b\b\b\b\b\b\b\b\b\n",
      "Epoch 53/80\n",
      "4/4 [==============================] - 0s 5ms/step - loss: 0.0185 - accuracy: 0.9988\b\b\b\b\b\b\b\b\b\b\b\b\b\b\b\b\b\b\b\b\b\b\b\b\b\b\b\b\b\b\b\b\b\b\b\b\b\b\b\b\b\b\b\b\b\b\b\b\b\b\b\b\b\b\b\b\b\b\b\b\b\b\b\b\b\b\b\b\b\b\b\b\b\b\b\b\n",
      "Epoch 54/80\n",
      "4/4 [==============================] - 0s 5ms/step - loss: 0.0173 - accuracy: 0.9992\b\b\b\b\b\b\b\b\b\b\b\b\b\b\b\b\b\b\b\b\b\b\b\b\b\b\b\b\b\b\b\b\b\b\b\b\b\b\b\b\b\b\b\b\b\b\b\b\b\b\b\b\b\b\b\b\b\b\b\b\b\b\b\b\b\b\b\b\b\b\b\b\b\b\b\b\n",
      "Epoch 55/80\n",
      "4/4 [==============================] - 0s 4ms/step - loss: 0.0178 - accuracy: 0.9988\b\b\b\b\b\b\b\b\b\b\b\b\b\b\b\b\b\b\b\b\b\b\b\b\b\b\b\b\b\b\b\b\b\b\b\b\b\b\b\b\b\b\b\b\b\b\b\b\b\b\b\b\b\b\b\b\b\b\b\b\b\b\b\b\b\b\b\b\b\b\b\b\b\b\b\b\n",
      "Epoch 56/80\n",
      "4/4 [==============================] - 0s 5ms/step - loss: 0.0185 - accuracy: 0.9981\b\b\b\b\b\b\b\b\b\b\b\b\b\b\b\b\b\b\b\b\b\b\b\b\b\b\b\b\b\b\b\b\b\b\b\b\b\b\b\b\b\b\b\b\b\b\b\b\b\b\b\b\b\b\b\b\b\b\b\b\b\b\b\b\b\b\b\b\b\b\b\b\b\b\b\b\n",
      "Epoch 57/80\n",
      "4/4 [==============================] - 0s 3ms/step - loss: 0.0164 - accuracy: 0.9992\b\b\b\b\b\b\b\b\b\b\b\b\b\b\b\b\b\b\b\b\b\b\b\b\b\b\b\b\b\b\b\b\b\b\b\b\b\b\b\b\b\b\b\b\b\b\b\b\b\b\b\b\b\b\b\b\b\b\b\b\b\b\b\b\b\b\b\b\b\b\b\b\b\b\b\b\n",
      "Epoch 58/80\n",
      "4/4 [==============================] - 0s 4ms/step - loss: 0.0181 - accuracy: 0.9981\b\b\b\b\b\b\b\b\b\b\b\b\b\b\b\b\b\b\b\b\b\b\b\b\b\b\b\b\b\b\b\b\b\b\b\b\b\b\b\b\b\b\b\b\b\b\b\b\b\b\b\b\b\b\b\b\b\b\b\b\b\b\b\b\b\b\b\b\b\b\b\b\b\b\b\b\n",
      "Epoch 59/80\n",
      "4/4 [==============================] - 0s 4ms/step - loss: 0.0117 - accuracy: 0.9988\b\b\b\b\b\b\b\b\b\b\b\b\b\b\b\b\b\b\b\b\b\b\b\b\b\b\b\b\b\b\b\b\b\b\b\b\b\b\b\b\b\b\b\b\b\b\b\b\b\b\b\b\b\b\b\b\b\b\b\b\b\b\b\b\b\b\b\b\b\b\b\b\b\b\b\b\n",
      "Epoch 60/80\n",
      "4/4 [==============================] - 0s 6ms/step - loss: 0.0116 - accuracy: 0.9981\b\b\b\b\b\b\b\b\b\b\b\b\b\b\b\b\b\b\b\b\b\b\b\b\b\b\b\b\b\b\b\b\b\b\b\b\b\b\b\b\b\b\b\b\b\b\b\b\b\b\b\b\b\b\b\b\b\b\b\b\b\b\b\b\b\b\b\b\b\b\b\b\b\b\b\b\n",
      "Epoch 61/80\n",
      "4/4 [==============================] - 0s 6ms/step - loss: 0.0106 - accuracy: 0.9973\b\b\b\b\b\b\b\b\b\b\b\b\b\b\b\b\b\b\b\b\b\b\b\b\b\b\b\b\b\b\b\b\b\b\b\b\b\b\b\b\b\b\b\b\b\b\b\b\b\b\b\b\b\b\b\b\b\b\b\b\b\b\b\b\b\b\b\b\b\b\b\b\b\b\b\b\n",
      "Epoch 62/80\n",
      "4/4 [==============================] - 0s 5ms/step - loss: 0.0113 - accuracy: 0.9981\b\b\b\b\b\b\b\b\b\b\b\b\b\b\b\b\b\b\b\b\b\b\b\b\b\b\b\b\b\b\b\b\b\b\b\b\b\b\b\b\b\b\b\b\b\b\b\b\b\b\b\b\b\b\b\b\b\b\b\b\b\b\b\b\b\b\b\b\b\b\b\b\b\b\b\b\n",
      "Epoch 63/80\n",
      "4/4 [==============================] - 0s 4ms/step - loss: 0.0097 - accuracy: 0.9973\b\b\b\b\b\b\b\b\b\b\b\b\b\b\b\b\b\b\b\b\b\b\b\b\b\b\b\b\b\b\b\b\b\b\b\b\b\b\b\b\b\b\b\b\b\b\b\b\b\b\b\b\b\b\b\b\b\b\b\b\b\b\b\b\b\b\b\b\b\b\b\b\b\b\b\b\n",
      "Epoch 64/80\n",
      "4/4 [==============================] - 0s 6ms/step - loss: 0.0088 - accuracy: 0.9992\b\b\b\b\b\b\b\b\b\b\b\b\b\b\b\b\b\b\b\b\b\b\b\b\b\b\b\b\b\b\b\b\b\b\b\b\b\b\b\b\b\b\b\b\b\b\b\b\b\b\b\b\b\b\b\b\b\b\b\b\b\b\b\b\b\b\b\b\b\b\b\b\b\b\b\b\n",
      "Epoch 65/80\n",
      "4/4 [==============================] - 0s 4ms/step - loss: 0.0077 - accuracy: 0.9992\b\b\b\b\b\b\b\b\b\b\b\b\b\b\b\b\b\b\b\b\b\b\b\b\b\b\b\b\b\b\b\b\b\b\b\b\b\b\b\b\b\b\b\b\b\b\b\b\b\b\b\b\b\b\b\b\b\b\b\b\b\b\b\b\b\b\b\b\b\b\b\b\b\b\b\b\n",
      "Epoch 66/80\n",
      "4/4 [==============================] - 0s 4ms/step - loss: 0.0076 - accuracy: 0.9988\b\b\b\b\b\b\b\b\b\b\b\b\b\b\b\b\b\b\b\b\b\b\b\b\b\b\b\b\b\b\b\b\b\b\b\b\b\b\b\b\b\b\b\b\b\b\b\b\b\b\b\b\b\b\b\b\b\b\b\b\b\b\b\b\b\b\b\b\b\b\b\b\b\b\b\b\n",
      "Epoch 67/80\n",
      "4/4 [==============================] - 0s 4ms/step - loss: 0.0087 - accuracy: 0.9973\b\b\b\b\b\b\b\b\b\b\b\b\b\b\b\b\b\b\b\b\b\b\b\b\b\b\b\b\b\b\b\b\b\b\b\b\b\b\b\b\b\b\b\b\b\b\b\b\b\b\b\b\b\b\b\b\b\b\b\b\b\b\b\b\b\b\b\b\b\b\b\b\b\b\b\b\n",
      "Epoch 68/80\n",
      "4/4 [==============================] - 0s 3ms/step - loss: 0.0072 - accuracy: 0.9992\b\b\b\b\b\b\b\b\b\b\b\b\b\b\b\b\b\b\b\b\b\b\b\b\b\b\b\b\b\b\b\b\b\b\b\b\b\b\b\b\b\b\b\b\b\b\b\b\b\b\b\b\b\b\b\b\b\b\b\b\b\b\b\b\b\b\b\b\b\b\b\b\b\b\b\b\n",
      "Epoch 69/80\n",
      "4/4 [==============================] - 0s 6ms/step - loss: 0.0081 - accuracy: 0.9988\b\b\b\b\b\b\b\b\b\b\b\b\b\b\b\b\b\b\b\b\b\b\b\b\b\b\b\b\b\b\b\b\b\b\b\b\b\b\b\b\b\b\b\b\b\b\b\b\b\b\b\b\b\b\b\b\b\b\b\b\b\b\b\b\b\b\b\b\b\b\b\b\b\b\b\b\n",
      "Epoch 70/80\n",
      "4/4 [==============================] - 0s 6ms/step - loss: 0.0073 - accuracy: 0.9992\b\b\b\b\b\b\b\b\b\b\b\b\b\b\b\b\b\b\b\b\b\b\b\b\b\b\b\b\b\b\b\b\b\b\b\b\b\b\b\b\b\b\b\b\b\b\b\b\b\b\b\b\b\b\b\b\b\b\b\b\b\b\b\b\b\b\b\b\b\b\b\b\b\b\b\b\n",
      "Epoch 71/80\n",
      "4/4 [==============================] - 0s 9ms/step - loss: 0.0080 - accuracy: 0.9981\b\b\b\b\b\b\b\b\b\b\b\b\b\b\b\b\b\b\b\b\b\b\b\b\b\b\b\b\b\b\b\b\b\b\b\b\b\b\b\b\b\b\b\b\b\b\b\b\b\b\b\b\b\b\b\b\b\b\b\b\b\b\b\b\b\b\b\b\b\b\b\b\b\b\b\b\n",
      "Epoch 72/80\n",
      "4/4 [==============================] - 0s 6ms/step - loss: 0.0068 - accuracy: 0.9988\b\b\b\b\b\b\b\b\b\b\b\b\b\b\b\b\b\b\b\b\b\b\b\b\b\b\b\b\b\b\b\b\b\b\b\b\b\b\b\b\b\b\b\b\b\b\b\b\b\b\b\b\b\b\b\b\b\b\b\b\b\b\b\b\b\b\b\b\b\b\b\b\b\b\b\b\n",
      "Epoch 73/80\n",
      "4/4 [==============================] - 0s 4ms/step - loss: 0.0066 - accuracy: 0.9988\b\b\b\b\b\b\b\b\b\b\b\b\b\b\b\b\b\b\b\b\b\b\b\b\b\b\b\b\b\b\b\b\b\b\b\b\b\b\b\b\b\b\b\b\b\b\b\b\b\b\b\b\b\b\b\b\b\b\b\b\b\b\b\b\b\b\b\b\b\b\b\b\b\b\b\b\n",
      "Epoch 74/80\n",
      "4/4 [==============================] - 0s 4ms/step - loss: 0.0070 - accuracy: 0.9973\b\b\b\b\b\b\b\b\b\b\b\b\b\b\b\b\b\b\b\b\b\b\b\b\b\b\b\b\b\b\b\b\b\b\b\b\b\b\b\b\b\b\b\b\b\b\b\b\b\b\b\b\b\b\b\b\b\b\b\b\b\b\b\b\b\b\b\b\b\b\b\b\b\b\b\b\n",
      "Epoch 75/80\n",
      "4/4 [==============================] - 0s 5ms/step - loss: 0.0058 - accuracy: 0.9992\b\b\b\b\b\b\b\b\b\b\b\b\b\b\b\b\b\b\b\b\b\b\b\b\b\b\b\b\b\b\b\b\b\b\b\b\b\b\b\b\b\b\b\b\b\b\b\b\b\b\b\b\b\b\b\b\b\b\b\b\b\b\b\b\b\b\b\b\b\b\b\b\b\b\b\b\n",
      "Epoch 76/80\n",
      "4/4 [==============================] - 0s 5ms/step - loss: 0.0068 - accuracy: 0.9988\b\b\b\b\b\b\b\b\b\b\b\b\b\b\b\b\b\b\b\b\b\b\b\b\b\b\b\b\b\b\b\b\b\b\b\b\b\b\b\b\b\b\b\b\b\b\b\b\b\b\b\b\b\b\b\b\b\b\b\b\b\b\b\b\b\b\b\b\b\b\b\b\b\b\b\b\n",
      "Epoch 77/80\n",
      "4/4 [==============================] - 0s 5ms/step - loss: 0.0056 - accuracy: 0.9992\b\b\b\b\b\b\b\b\b\b\b\b\b\b\b\b\b\b\b\b\b\b\b\b\b\b\b\b\b\b\b\b\b\b\b\b\b\b\b\b\b\b\b\b\b\b\b\b\b\b\b\b\b\b\b\b\b\b\b\b\b\b\b\b\b\b\b\b\b\b\b\b\b\b\b\b\n",
      "Epoch 78/80\n",
      "4/4 [==============================] - 0s 6ms/step - loss: 0.0055 - accuracy: 0.9981\b\b\b\b\b\b\b\b\b\b\b\b\b\b\b\b\b\b\b\b\b\b\b\b\b\b\b\b\b\b\b\b\b\b\b\b\b\b\b\b\b\b\b\b\b\b\b\b\b\b\b\b\b\b\b\b\b\b\b\b\b\b\b\b\b\b\b\b\b\b\b\b\b\b\b\b\n",
      "Epoch 79/80\n",
      "4/4 [==============================] - 0s 9ms/step - loss: 0.0059 - accuracy: 0.9992\b\b\b\b\b\b\b\b\b\b\b\b\b\b\b\b\b\b\b\b\b\b\b\b\b\b\b\b\b\b\b\b\b\b\b\b\b\b\b\b\b\b\b\b\b\b\b\b\b\b\b\b\b\b\b\b\b\b\b\b\b\b\b\b\b\b\b\b\b\b\b\b\b\b\b\b\n",
      "Epoch 80/80\n",
      "4/4 [==============================] - 0s 5ms/step - loss: 0.0065 - accuracy: 0.9969\b\b\b\b\b\b\b\b\b\b\b\b\b\b\b\b\b\b\b\b\b\b\b\b\b\b\b\b\b\b\b\b\b\b\b\b\b\b\b\b\b\b\b\b\b\b\b\b\b\b\b\b\b\b\b\b\b\b\b\b\b\b\b\b\b\b\b\b\b\b\b\b\b\b\b\b\n"
     ]
    }
   ],
   "source": [
    "history = model.fit(X_train,\n",
    "                    y_train,\n",
    "                    epochs=80,\n",
    "                    batch_size=256)"
   ]
  },
  {
   "cell_type": "markdown",
   "metadata": {},
   "source": [
    "# Evaluate the model with our testing data"
   ]
  },
  {
   "cell_type": "code",
   "execution_count": 213,
   "metadata": {},
   "outputs": [
    {
     "name": "stdout",
     "output_type": "stream",
     "text": [
      "7/7 [==============================] - 0s 997us/step - loss: 1.8936 - accuracy: 0.7050\b\b\b\b\b\b\b\b\b\b\b\b\b\b\b\b\b\b\b\b\b\b\b\b\b\b\b\b\b\b\b\b\b\b\b\b\b\b\b\b\b\b\b\b\b\b\b\b\b\b\b\b\b\b\b\b\b\b\b\b\b\b\b\b\b\b\b\b\b\b\b\b\b\b\n"
     ]
    }
   ],
   "source": [
    "test_loss, test_acc = model.evaluate(X_test,y_test)"
   ]
  },
  {
   "cell_type": "code",
   "execution_count": 214,
   "metadata": {},
   "outputs": [
    {
     "name": "stdout",
     "output_type": "stream",
     "text": [
      "test accuracy:  0.7049999833106995\n"
     ]
    }
   ],
   "source": [
    "print('test accuracy: ',test_acc)"
   ]
  },
  {
   "cell_type": "markdown",
   "metadata": {},
   "source": [
    "# Model Inference (TODO- calculate spectral features, and put into data structure that gets put into model. add your own audio tracks)\n",
    "- We can now use our model to make predictions. In this case, we use the test data to do so\n",
    "- need to extract the audio features that the model uses from ur song"
   ]
  },
  {
   "cell_type": "code",
   "execution_count": 214,
   "outputs": [],
   "source": [],
   "metadata": {
    "collapsed": false,
    "pycharm": {
     "name": "#%%\n"
    }
   }
  },
  {
   "cell_type": "markdown",
   "source": [
    "### Create a CSV file to store audio features"
   ],
   "metadata": {
    "collapsed": false,
    "pycharm": {
     "name": "#%% md\n"
    }
   }
  },
  {
   "cell_type": "code",
   "execution_count": 214,
   "outputs": [],
   "source": [],
   "metadata": {
    "collapsed": false,
    "pycharm": {
     "name": "#%%\n"
    }
   }
  },
  {
   "cell_type": "code",
   "execution_count": 215,
   "outputs": [],
   "source": [
    "def create_csv(track_name, csv_name):\n",
    "    input_freq_data, sr = librosa.load('./audio/'+track_name, mono=True, duration=30)\n",
    "\n",
    "\n",
    "    chroma_stft = librosa.feature.chroma_stft(y=input_freq_data, sr=sr)\n",
    "    rmse = librosa.feature.rms(y=input_freq_data)\n",
    "    spec_cent = librosa.feature.spectral_centroid(y=input_freq_data, sr=sr)\n",
    "    spec_bw = librosa.feature.spectral_bandwidth(y=input_freq_data, sr=sr)\n",
    "    rolloff = librosa.feature.spectral_rolloff(y=input_freq_data, sr=sr)\n",
    "    zcr = librosa.feature.zero_crossing_rate(input_freq_data)\n",
    "    mfcc = librosa.feature.mfcc(y=input_freq_data, sr=sr)\n",
    "\n",
    "\n",
    "    to_append = f'{track_name[:-4]} {np.mean(chroma_stft)} {np.var(chroma_stft)} {np.mean(rmse)} {np.var(rmse)} {np.mean(spec_cent)} {np.var(spec_cent)} {np.mean(spec_bw)} {np.var(spec_bw)} {np.mean(rolloff)} {np.var(rolloff)} {np.mean(zcr)} {np.var(zcr)}'\n",
    "    for e in mfcc:\n",
    "        to_append += f' {np.mean(e)}'\n",
    "        to_append += f' {np.var(e)}'\n",
    "\n",
    "    file = open(csv_name, 'a', newline='')\n",
    "    with file:\n",
    "        writer = csv.writer(file)\n",
    "        writer.writerow(to_append.split())\n",
    "\n",
    "def create_header(csv_name):\n",
    "    header = 'filename chroma_stft_mean chroma_stft_var rms_mean rms_var spectral_centroid_mean spectral_centroid_var spectral_bandwidth_mean spectral_bandwidth_var rolloff_mean rolloff_var zero_crossing_rate_mean zero_crossing_rate_var'\n",
    "    for i in range(1, 21):\n",
    "        header += f' mfcc{i}_mean'\n",
    "        header += f' mfcc{i}_var'\n",
    "    header += ' label'\n",
    "    header = header.split()\n",
    "\n",
    "    file = open(csv_name, 'w', newline='')\n",
    "    with file:\n",
    "        writer = csv.writer(file)\n",
    "        writer.writerow(header)\n"
   ],
   "metadata": {
    "collapsed": false,
    "pycharm": {
     "name": "#%%\n"
    }
   }
  },
  {
   "cell_type": "code",
   "execution_count": 216,
   "outputs": [
    {
     "name": "stdout",
     "output_type": "stream",
     "text": [
      "['hiphop.00000.wav', 'metal.00019.wav', 'country.00000.wav', 'forward.wav', 'gangplank_galleon.wav', 'blues.00000.wav', 'classical.00000.wav']\n"
     ]
    }
   ],
   "source": [
    "csv_name = 'data.csv'\n",
    "tracks = os.listdir('./audio')\n",
    "# track_name = tracks[2]\n",
    "print(tracks)\n",
    "create_header(csv_name)\n",
    "for track in tracks:\n",
    "    create_csv(track, csv_name)"
   ],
   "metadata": {
    "collapsed": false,
    "pycharm": {
     "name": "#%%\n"
    }
   }
  },
  {
   "cell_type": "markdown",
   "source": [
    "### Now let's read our input data."
   ],
   "metadata": {
    "collapsed": false,
    "pycharm": {
     "name": "#%% md\n"
    }
   }
  },
  {
   "cell_type": "code",
   "execution_count": 217,
   "outputs": [],
   "source": [
    "# now let's\n",
    "in_data = None\n",
    "for track in tracks:\n",
    "    in_data = pd.read_csv(csv_name)\n",
    "    in_data = in_data.drop(['filename', 'label'],axis=1)"
   ],
   "metadata": {
    "collapsed": false,
    "pycharm": {
     "name": "#%%\n"
    }
   }
  },
  {
   "cell_type": "code",
   "execution_count": 218,
   "outputs": [
    {
     "data": {
      "text/plain": "   chroma_stft_mean  chroma_stft_var  rms_mean   rms_var  \\\n0          0.460648         0.085179  0.125286  0.002467   \n1          0.555233         0.062266  0.100896  0.000967   \n2          0.383708         0.081253  0.248499  0.000705   \n3          0.208752         0.086042  0.094637  0.002692   \n4          0.338958         0.087362  0.116228  0.002324   \n\n   spectral_centroid_mean  spectral_centroid_var  spectral_bandwidth_mean  \\\n0             2667.598264          418696.624101              2350.982431   \n1             2699.573852          214777.169714              2324.221639   \n2             2797.736904          355754.332506              2847.642919   \n3              976.691592          261171.317088              1263.216057   \n4             1789.672791          344021.655175              2041.964027   \n\n   spectral_bandwidth_var  rolloff_mean   rolloff_var  ...  mfcc16_mean  \\\n0           107871.586945   5474.525230  1.564568e+06  ...     7.326542   \n1            56802.723919   5385.359102  7.648671e+05  ...     5.403974   \n2           105961.888140   6220.395719  1.801483e+06  ...     0.361101   \n3           211062.187858   1534.515721  8.572561e+05  ...    -2.265531   \n4           130313.198430   3665.066528  1.588140e+06  ...     3.190450   \n\n   mfcc16_var  mfcc17_mean  mfcc17_var  mfcc18_mean  mfcc18_var  mfcc19_mean  \\\n0   55.438866    -5.376040   69.462151     7.688968   62.261711    -5.545129   \n1   34.778641   -11.118480   23.151911     2.686800   33.295479    -5.690470   \n2   68.738335     0.585364   54.161255     4.028057   74.087738     0.928209   \n3  104.791649     1.500498  138.381638     1.371981  138.501846    -0.680320   \n4  119.261002    -1.293239  111.640648     1.197762   71.990517    -3.442649   \n\n   mfcc19_var  mfcc20_mean  mfcc20_var  \n0   63.314182     1.526966   40.949604  \n1   24.402334     3.097618   25.051220  \n2   68.705605     4.090144   73.815948  \n3  108.932625     0.270372  117.022636  \n4  110.102531     5.273690  118.395699  \n\n[5 rows x 52 columns]",
      "text/html": "<div>\n<style scoped>\n    .dataframe tbody tr th:only-of-type {\n        vertical-align: middle;\n    }\n\n    .dataframe tbody tr th {\n        vertical-align: top;\n    }\n\n    .dataframe thead th {\n        text-align: right;\n    }\n</style>\n<table border=\"1\" class=\"dataframe\">\n  <thead>\n    <tr style=\"text-align: right;\">\n      <th></th>\n      <th>chroma_stft_mean</th>\n      <th>chroma_stft_var</th>\n      <th>rms_mean</th>\n      <th>rms_var</th>\n      <th>spectral_centroid_mean</th>\n      <th>spectral_centroid_var</th>\n      <th>spectral_bandwidth_mean</th>\n      <th>spectral_bandwidth_var</th>\n      <th>rolloff_mean</th>\n      <th>rolloff_var</th>\n      <th>...</th>\n      <th>mfcc16_mean</th>\n      <th>mfcc16_var</th>\n      <th>mfcc17_mean</th>\n      <th>mfcc17_var</th>\n      <th>mfcc18_mean</th>\n      <th>mfcc18_var</th>\n      <th>mfcc19_mean</th>\n      <th>mfcc19_var</th>\n      <th>mfcc20_mean</th>\n      <th>mfcc20_var</th>\n    </tr>\n  </thead>\n  <tbody>\n    <tr>\n      <th>0</th>\n      <td>0.460648</td>\n      <td>0.085179</td>\n      <td>0.125286</td>\n      <td>0.002467</td>\n      <td>2667.598264</td>\n      <td>418696.624101</td>\n      <td>2350.982431</td>\n      <td>107871.586945</td>\n      <td>5474.525230</td>\n      <td>1.564568e+06</td>\n      <td>...</td>\n      <td>7.326542</td>\n      <td>55.438866</td>\n      <td>-5.376040</td>\n      <td>69.462151</td>\n      <td>7.688968</td>\n      <td>62.261711</td>\n      <td>-5.545129</td>\n      <td>63.314182</td>\n      <td>1.526966</td>\n      <td>40.949604</td>\n    </tr>\n    <tr>\n      <th>1</th>\n      <td>0.555233</td>\n      <td>0.062266</td>\n      <td>0.100896</td>\n      <td>0.000967</td>\n      <td>2699.573852</td>\n      <td>214777.169714</td>\n      <td>2324.221639</td>\n      <td>56802.723919</td>\n      <td>5385.359102</td>\n      <td>7.648671e+05</td>\n      <td>...</td>\n      <td>5.403974</td>\n      <td>34.778641</td>\n      <td>-11.118480</td>\n      <td>23.151911</td>\n      <td>2.686800</td>\n      <td>33.295479</td>\n      <td>-5.690470</td>\n      <td>24.402334</td>\n      <td>3.097618</td>\n      <td>25.051220</td>\n    </tr>\n    <tr>\n      <th>2</th>\n      <td>0.383708</td>\n      <td>0.081253</td>\n      <td>0.248499</td>\n      <td>0.000705</td>\n      <td>2797.736904</td>\n      <td>355754.332506</td>\n      <td>2847.642919</td>\n      <td>105961.888140</td>\n      <td>6220.395719</td>\n      <td>1.801483e+06</td>\n      <td>...</td>\n      <td>0.361101</td>\n      <td>68.738335</td>\n      <td>0.585364</td>\n      <td>54.161255</td>\n      <td>4.028057</td>\n      <td>74.087738</td>\n      <td>0.928209</td>\n      <td>68.705605</td>\n      <td>4.090144</td>\n      <td>73.815948</td>\n    </tr>\n    <tr>\n      <th>3</th>\n      <td>0.208752</td>\n      <td>0.086042</td>\n      <td>0.094637</td>\n      <td>0.002692</td>\n      <td>976.691592</td>\n      <td>261171.317088</td>\n      <td>1263.216057</td>\n      <td>211062.187858</td>\n      <td>1534.515721</td>\n      <td>8.572561e+05</td>\n      <td>...</td>\n      <td>-2.265531</td>\n      <td>104.791649</td>\n      <td>1.500498</td>\n      <td>138.381638</td>\n      <td>1.371981</td>\n      <td>138.501846</td>\n      <td>-0.680320</td>\n      <td>108.932625</td>\n      <td>0.270372</td>\n      <td>117.022636</td>\n    </tr>\n    <tr>\n      <th>4</th>\n      <td>0.338958</td>\n      <td>0.087362</td>\n      <td>0.116228</td>\n      <td>0.002324</td>\n      <td>1789.672791</td>\n      <td>344021.655175</td>\n      <td>2041.964027</td>\n      <td>130313.198430</td>\n      <td>3665.066528</td>\n      <td>1.588140e+06</td>\n      <td>...</td>\n      <td>3.190450</td>\n      <td>119.261002</td>\n      <td>-1.293239</td>\n      <td>111.640648</td>\n      <td>1.197762</td>\n      <td>71.990517</td>\n      <td>-3.442649</td>\n      <td>110.102531</td>\n      <td>5.273690</td>\n      <td>118.395699</td>\n    </tr>\n  </tbody>\n</table>\n<p>5 rows × 52 columns</p>\n</div>"
     },
     "execution_count": 218,
     "metadata": {},
     "output_type": "execute_result"
    }
   ],
   "source": [
    "in_data.head()"
   ],
   "metadata": {
    "collapsed": false,
    "pycharm": {
     "name": "#%%\n"
    }
   }
  },
  {
   "cell_type": "code",
   "execution_count": 219,
   "outputs": [
    {
     "data": {
      "text/plain": "   chroma_stft_mean  chroma_stft_var  rms_mean   rms_var  \\\n0          0.350088         0.088757  0.130228  0.002827   \n1          0.340914         0.094980  0.095948  0.002373   \n2          0.363637         0.085275  0.175570  0.002746   \n3          0.404785         0.093999  0.141093  0.006346   \n4          0.308526         0.087841  0.091529  0.002303   \n\n   spectral_centroid_mean  spectral_centroid_var  spectral_bandwidth_mean  \\\n0             1784.165850          129774.064525              2002.449060   \n1             1530.176679          375850.073649              2039.036516   \n2             1552.811865          156467.643368              1747.702312   \n3             1070.106615          184355.942417              1596.412872   \n4             1835.004266          343399.939274              1748.172116   \n\n   spectral_bandwidth_var  rolloff_mean   rolloff_var  ...  mfcc16_mean  \\\n0            85882.761315   3805.839606  9.015054e+05  ...     0.752740   \n1           213843.755497   3550.522098  2.977893e+06  ...     0.927998   \n2            76254.192257   3042.260232  7.840345e+05  ...     2.451690   \n3           166441.494769   2184.745799  1.493194e+06  ...     0.780874   \n4            88445.209036   3579.757627  1.572978e+06  ...    -4.520576   \n\n   mfcc16_var  mfcc17_mean  mfcc17_var  mfcc18_mean  mfcc18_var  mfcc19_mean  \\\n0   52.420910    -1.690215   36.524071    -0.408979   41.597103    -2.303523   \n1   55.356403    -0.731125   60.314529     0.295073   48.120598    -0.283518   \n2   40.598766    -7.729093   47.639427    -1.816407   52.382141    -3.439720   \n3   44.427753    -3.319597   50.206673     0.636965   37.319130    -0.619121   \n4   86.099236    -5.454034   75.269707    -0.916874   53.613918    -4.404827   \n\n   mfcc19_var  mfcc20_mean  mfcc20_var  \n0   55.062923     1.221291   46.936035  \n1   51.106190     0.531217   45.786282  \n2   46.639660    -2.231258   30.573025  \n3   37.259739    -3.407448   31.949339  \n4   62.910812   -11.703234   55.195160  \n\n[5 rows x 52 columns]",
      "text/html": "<div>\n<style scoped>\n    .dataframe tbody tr th:only-of-type {\n        vertical-align: middle;\n    }\n\n    .dataframe tbody tr th {\n        vertical-align: top;\n    }\n\n    .dataframe thead th {\n        text-align: right;\n    }\n</style>\n<table border=\"1\" class=\"dataframe\">\n  <thead>\n    <tr style=\"text-align: right;\">\n      <th></th>\n      <th>chroma_stft_mean</th>\n      <th>chroma_stft_var</th>\n      <th>rms_mean</th>\n      <th>rms_var</th>\n      <th>spectral_centroid_mean</th>\n      <th>spectral_centroid_var</th>\n      <th>spectral_bandwidth_mean</th>\n      <th>spectral_bandwidth_var</th>\n      <th>rolloff_mean</th>\n      <th>rolloff_var</th>\n      <th>...</th>\n      <th>mfcc16_mean</th>\n      <th>mfcc16_var</th>\n      <th>mfcc17_mean</th>\n      <th>mfcc17_var</th>\n      <th>mfcc18_mean</th>\n      <th>mfcc18_var</th>\n      <th>mfcc19_mean</th>\n      <th>mfcc19_var</th>\n      <th>mfcc20_mean</th>\n      <th>mfcc20_var</th>\n    </tr>\n  </thead>\n  <tbody>\n    <tr>\n      <th>0</th>\n      <td>0.350088</td>\n      <td>0.088757</td>\n      <td>0.130228</td>\n      <td>0.002827</td>\n      <td>1784.165850</td>\n      <td>129774.064525</td>\n      <td>2002.449060</td>\n      <td>85882.761315</td>\n      <td>3805.839606</td>\n      <td>9.015054e+05</td>\n      <td>...</td>\n      <td>0.752740</td>\n      <td>52.420910</td>\n      <td>-1.690215</td>\n      <td>36.524071</td>\n      <td>-0.408979</td>\n      <td>41.597103</td>\n      <td>-2.303523</td>\n      <td>55.062923</td>\n      <td>1.221291</td>\n      <td>46.936035</td>\n    </tr>\n    <tr>\n      <th>1</th>\n      <td>0.340914</td>\n      <td>0.094980</td>\n      <td>0.095948</td>\n      <td>0.002373</td>\n      <td>1530.176679</td>\n      <td>375850.073649</td>\n      <td>2039.036516</td>\n      <td>213843.755497</td>\n      <td>3550.522098</td>\n      <td>2.977893e+06</td>\n      <td>...</td>\n      <td>0.927998</td>\n      <td>55.356403</td>\n      <td>-0.731125</td>\n      <td>60.314529</td>\n      <td>0.295073</td>\n      <td>48.120598</td>\n      <td>-0.283518</td>\n      <td>51.106190</td>\n      <td>0.531217</td>\n      <td>45.786282</td>\n    </tr>\n    <tr>\n      <th>2</th>\n      <td>0.363637</td>\n      <td>0.085275</td>\n      <td>0.175570</td>\n      <td>0.002746</td>\n      <td>1552.811865</td>\n      <td>156467.643368</td>\n      <td>1747.702312</td>\n      <td>76254.192257</td>\n      <td>3042.260232</td>\n      <td>7.840345e+05</td>\n      <td>...</td>\n      <td>2.451690</td>\n      <td>40.598766</td>\n      <td>-7.729093</td>\n      <td>47.639427</td>\n      <td>-1.816407</td>\n      <td>52.382141</td>\n      <td>-3.439720</td>\n      <td>46.639660</td>\n      <td>-2.231258</td>\n      <td>30.573025</td>\n    </tr>\n    <tr>\n      <th>3</th>\n      <td>0.404785</td>\n      <td>0.093999</td>\n      <td>0.141093</td>\n      <td>0.006346</td>\n      <td>1070.106615</td>\n      <td>184355.942417</td>\n      <td>1596.412872</td>\n      <td>166441.494769</td>\n      <td>2184.745799</td>\n      <td>1.493194e+06</td>\n      <td>...</td>\n      <td>0.780874</td>\n      <td>44.427753</td>\n      <td>-3.319597</td>\n      <td>50.206673</td>\n      <td>0.636965</td>\n      <td>37.319130</td>\n      <td>-0.619121</td>\n      <td>37.259739</td>\n      <td>-3.407448</td>\n      <td>31.949339</td>\n    </tr>\n    <tr>\n      <th>4</th>\n      <td>0.308526</td>\n      <td>0.087841</td>\n      <td>0.091529</td>\n      <td>0.002303</td>\n      <td>1835.004266</td>\n      <td>343399.939274</td>\n      <td>1748.172116</td>\n      <td>88445.209036</td>\n      <td>3579.757627</td>\n      <td>1.572978e+06</td>\n      <td>...</td>\n      <td>-4.520576</td>\n      <td>86.099236</td>\n      <td>-5.454034</td>\n      <td>75.269707</td>\n      <td>-0.916874</td>\n      <td>53.613918</td>\n      <td>-4.404827</td>\n      <td>62.910812</td>\n      <td>-11.703234</td>\n      <td>55.195160</td>\n    </tr>\n  </tbody>\n</table>\n<p>5 rows × 52 columns</p>\n</div>"
     },
     "execution_count": 219,
     "metadata": {},
     "output_type": "execute_result"
    }
   ],
   "source": [
    "data.head()"
   ],
   "metadata": {
    "collapsed": false,
    "pycharm": {
     "name": "#%%\n"
    }
   }
  },
  {
   "cell_type": "code",
   "execution_count": 220,
   "outputs": [
    {
     "data": {
      "text/plain": "array([[ 8.81809158e-01,  3.60605868e-01,  6.01135976e-02,\n         7.26317223e-01,  9.80229458e-01,  1.34608545e+00,\n         6.05665250e-01,  3.76296095e-02,  8.77572159e-01,\n         8.95072059e-01,  1.20080321e+00,  1.41313336e+00,\n         6.97736582e-01,  5.57581679e-01, -8.20819230e-01,\n         8.86508886e-01, -1.05949459e+00,  1.22457511e+00,\n        -6.23540238e-03,  2.31801561e+00, -1.37266162e+00,\n         1.27367201e+00,  1.18015418e+00,  1.96949115e+00,\n        -1.38727223e+00,  5.91851054e-01,  8.16526675e-01,\n         1.07582321e+00, -9.17918352e-01,  1.40836445e+00,\n         1.10429363e+00, -6.70618930e-01, -1.25255581e+00,\n        -2.33242652e-01,  9.46683889e-01, -3.92747494e-01,\n        -9.61825035e-01, -4.24396760e-02,  1.41637303e+00,\n        -1.65032925e-01, -1.04770196e+00, -5.69863247e-01,\n         1.54432887e+00, -6.78729079e-01, -7.02603385e-01,\n        -1.74576093e-01,  2.09052108e+00, -3.56137205e-01,\n        -1.27286485e+00, -4.12320075e-01, -2.81741440e-01],\n       [ 1.74688910e+00, -2.36311854e+00, -3.50814725e-01,\n        -7.80134845e-01,  1.02950940e+00, -3.07207085e-01,\n         5.50782319e-01, -9.60161411e-01,  8.20025454e-01,\n        -6.83043030e-01,  1.59293166e+00,  6.16867101e-01,\n         6.06635774e-01, -2.51493754e-01, -9.06205119e-01,\n        -5.50921706e-01, -5.11560740e-01, -7.99532880e-01,\n         2.10336102e+00, -5.98047101e-01, -7.41124443e-01,\n        -7.79456094e-01,  1.01023268e+00, -1.28937431e-01,\n        -9.33140022e-01, -1.04484812e+00,  1.30290280e+00,\n        -1.15480726e+00, -5.60076151e-01, -1.35018416e+00,\n         1.33628271e+00, -9.67560197e-01, -1.42567883e+00,\n        -1.69671831e+00,  1.10868131e+00, -1.02197741e+00,\n        -1.67972594e+00, -1.24439738e+00,  2.05474441e-01,\n        -6.93068200e-01, -1.50243917e+00, -1.11862636e+00,\n         9.08962638e-01, -1.41500583e+00, -2.11936286e+00,\n        -1.36292223e+00,  2.74230251e-02, -1.24300800e+00,\n        -1.32922865e+00, -1.74052133e+00,  5.02056174e-01],\n       [ 1.78116266e-01, -1.06071870e-01,  2.13605115e+00,\n        -1.04322472e+00,  1.18079572e+00,  8.35776020e-01,\n         1.62425185e+00,  3.17630966e-04,  1.35894766e+00,\n         1.36259582e+00,  8.79191494e-02, -2.23356391e-03,\n         1.32425416e+00, -1.25072309e+00, -1.33041534e+00,\n        -6.89908834e-01,  1.27813144e+00, -6.42901162e-01,\n        -3.49814403e-01, -6.41146932e-01,  1.76509114e+00,\n        -2.09897433e-02, -1.55925606e+00,  6.13413407e-01,\n         1.90531342e+00,  2.05541139e-01, -1.67234708e-01,\n        -5.50603252e-01,  1.96713483e+00, -9.52929679e-01,\n         2.22279107e-02, -2.64521275e-01,  1.19462845e+00,\n        -3.09758403e-01, -6.09860395e-01, -7.82950921e-01,\n         5.95156386e-01, -3.35995494e-01,  4.48321494e-01,\n        -6.07799063e-01,  1.17115966e+00, -8.17067571e-01,\n        -7.57595238e-01, -2.04770553e-01,  7.68178405e-01,\n        -5.67205463e-01,  5.80612176e-01,  5.94502273e-03,\n         1.23752164e+00, -2.28291452e-01,  9.97352874e-01],\n       [-1.42203992e+00,  4.63124139e-01, -4.56271453e-01,\n         9.52615063e-01, -1.62575158e+00,  6.89370052e-02,\n        -1.62520328e+00,  2.05378288e+00, -1.66526077e+00,\n        -5.00724380e-01, -1.49248941e+00,  5.32334798e-01,\n        -1.57855663e+00,  1.95935382e+00,  1.60787769e+00,\n         1.22648565e+00,  1.54045974e+00,  1.86238227e+00,\n        -1.31900599e+00,  3.37832053e-01,  2.86373074e-01,\n         2.05310766e-01, -1.37201078e+00,  1.06226551e-01,\n        -7.04633314e-02,  6.03198255e-01, -2.07566646e+00,\n         1.90262958e+00, -7.46572128e-01,  1.08835651e+00,\n        -1.76661764e+00,  2.40824271e-01, -2.61591353e-01,\n         1.48169357e+00, -1.98564309e+00,  2.13950849e+00,\n        -6.06289945e-01,  5.62654643e-01, -2.03763870e+00,\n         4.90712320e-01,  7.04935019e-02,  1.11866347e+00,\n        -1.62563879e+00,  1.08007591e+00,  9.93957808e-01,\n         1.59393572e+00, -5.14861870e-01,  1.97813771e+00,\n         6.13727520e-01,  1.14480135e+00, -9.08815603e-01],\n       [-2.31164803e-01,  6.20137376e-01, -9.25012527e-02,\n         5.83523638e-01, -3.72806267e-01,  7.40652444e-01,\n        -2.80916374e-02,  4.76097143e-01, -2.90229886e-01,\n         9.41588952e-01, -6.52540299e-01,  3.20547954e-01,\n        -5.96210478e-02,  3.98363469e-01,  1.66250311e-02,\n         1.25696604e+00,  2.19154816e-01, -3.20823394e-01,\n        -4.26810019e-01, -6.64574117e-01,  9.07106223e-01,\n        -1.09330391e+00,  1.06385981e-02, -1.28517243e+00,\n         6.66524750e-01, -1.30019194e+00, -1.69936030e-02,\n        -5.75638373e-01,  1.03681093e+00, -8.71240858e-01,\n        -8.90349101e-01, -1.40531349e-01,  1.09923719e+00,\n         5.26357877e-01, -3.72848808e-01, -1.35591080e-01,\n         1.09384327e+00, -9.35439235e-02, -6.18314781e-02,\n        -4.50245391e-01, -1.81755797e-02,  7.71336463e-01,\n         1.77442047e-01,  1.59572605e+00,  3.04694455e-01,\n         9.07747265e-01, -5.86716849e-01, -5.82664486e-02,\n        -4.57514863e-01,  1.18473447e+00,  1.58797427e+00],\n       [-1.30697758e-01,  7.86235025e-01,  1.43325013e-01,\n         1.09025276e+00, -3.80901043e-01, -9.96249568e-01,\n        -1.08719242e-01, -3.91712403e-01, -1.98959967e-01,\n        -4.13094635e-01, -5.78394798e-01, -1.23137318e+00,\n         3.43112466e-01, -5.25731907e-01,  4.68636005e-01,\n        -8.59888435e-01, -2.40638008e-01, -6.48527821e-01,\n         5.14770916e-01, -4.74713100e-01, -1.14734648e-01,\n         1.52006880e+00,  4.20949027e-01, -2.82255854e-01,\n        -3.23839580e-01, -7.55663177e-01,  4.50506075e-01,\n        -2.73483214e-01, -2.51743195e-01,  5.75737809e-01,\n         2.72980505e-01, -4.84805687e-01, -1.69981211e-01,\n        -7.41922158e-01,  5.01870938e-01, -4.38679728e-01,\n         5.34340448e-01, -8.97234285e-01,  5.59834813e-01,\n        -8.14298665e-01, -1.69754180e-01, -8.58520710e-01,\n        -6.28759449e-01, -7.84916831e-01,  2.06328515e-01,\n        -1.01910271e+00, -1.24980409e+00, -9.87435430e-01,\n        -1.44718195e-02, -6.92868186e-01, -4.34961295e-01],\n       [-1.02291205e+00,  2.39088004e-01, -1.43990233e+00,\n        -1.52934912e+00, -8.11075682e-01, -1.68799427e+00,\n        -1.01868526e+00, -1.21595345e+00, -9.02094650e-01,\n        -1.60239478e+00, -1.58229517e-01, -1.64927647e+00,\n        -1.33356130e+00, -8.87350222e-01,  9.64300964e-01,\n        -1.26924161e+00, -1.22605267e+00, -6.75172117e-01,\n        -5.16266122e-01, -2.77366414e-01, -7.30049726e-01,\n        -1.10530183e+00,  3.09292344e-01, -9.92765397e-01,\n         1.42876996e-01,  1.70011279e+00, -3.10040780e-01,\n        -4.23920693e-01, -5.27635933e-01,  1.01895929e-01,\n        -7.88180119e-02,  2.28721317e+00,  8.15941564e-01,\n         9.73590076e-01,  4.11116164e-01,  6.32438135e-01,\n         1.02450082e+00,  2.05095612e+00, -5.30533600e-01,\n         2.23973192e+00,  1.49641773e+00,  1.47407796e+00,\n         3.81259923e-01,  4.07620326e-01,  5.48807064e-01,\n         6.22123509e-01, -3.47173470e-01,  6.60764351e-01,\n         1.22283102e+00,  7.44465215e-01, -1.46186498e+00]])"
     },
     "execution_count": 220,
     "metadata": {},
     "output_type": "execute_result"
    }
   ],
   "source": [
    "in_arr = np.array(in_data.iloc[:, :-1], dtype = float)\n",
    "scaler = StandardScaler()\n",
    "arr = scaler.fit_transform(in_arr)  # THIS NEEDS TO HAVE MORE THAN 1 SONG----- WHAT\n",
    "arr\n",
    "\n",
    "# arr"
   ],
   "metadata": {
    "collapsed": false,
    "pycharm": {
     "name": "#%%\n"
    }
   }
  },
  {
   "cell_type": "code",
   "execution_count": 221,
   "outputs": [
    {
     "name": "stdout",
     "output_type": "stream",
     "text": [
      "in_arr:\n"
     ]
    },
    {
     "data": {
      "text/plain": "array([[ 4.60647821e-01,  8.51791427e-02,  1.25285760e-01,\n         2.46655359e-03,  2.66759826e+03,  4.18696624e+05,\n         2.35098243e+03,  1.07871587e+05,  5.47452523e+03,\n         1.56456796e+06,  1.47340757e-01,  2.89199111e-03,\n        -8.09067764e+01,  4.88270068e+03,  8.47926636e+01,\n         7.50995667e+02, -3.15501862e+01,  5.49292664e+02,\n         3.39019356e+01,  4.07607819e+02, -1.98550491e+01,\n         1.58834610e+02,  2.35616112e+01,  1.35544418e+02,\n        -2.21317692e+01,  9.35224228e+01,  2.00208302e+01,\n         9.66761017e+01, -1.67695675e+01,  9.35621643e+01,\n         1.92089195e+01,  5.57985191e+01, -1.31147356e+01,\n         7.51671066e+01,  1.15034895e+01,  5.24700546e+01,\n        -1.07319489e+01,  7.40129776e+01,  1.05702105e+01,\n         7.19252090e+01, -8.42681408e+00,  6.49149857e+01,\n         7.32654238e+00,  5.54388657e+01, -5.37603998e+00,\n         6.94621506e+01,  7.68896770e+00,  6.22617111e+01,\n        -5.54512882e+00,  6.33141823e+01,  1.52696586e+00],\n       [ 5.55233181e-01,  6.22664168e-02,  1.00895815e-01,\n         9.66725696e-04,  2.69957385e+03,  2.14777170e+05,\n         2.32422164e+03,  5.68027239e+04,  5.38535910e+03,\n         7.64867112e+05,  1.61506582e-01,  2.25207199e-03,\n        -8.93046341e+01,  3.15194629e+03,  8.23581619e+01,\n         3.76390350e+02, -2.32585678e+01,  2.10361099e+02,\n         6.81130066e+01,  1.39582291e+02, -1.30881767e+01,\n         8.34092178e+01,  2.24553528e+01,  9.23771973e+01,\n        -1.85301437e+01,  6.20990829e+01,  2.62346649e+01,\n         5.08932991e+01, -1.43607836e+01,  5.56300240e+01,\n         2.15051727e+01,  4.36227379e+01, -1.38808079e+01,\n         3.67479744e+01,  1.24841938e+01,  3.54600067e+01,\n        -1.41217270e+01,  2.79362354e+01,  3.75821018e+00,\n         4.64206772e+01, -1.01174450e+01,  3.62065430e+01,\n         5.40397406e+00,  3.47786407e+01, -1.11184797e+01,\n         2.31519108e+01,  2.68680000e+00,  3.32954788e+01,\n        -5.69046974e+00,  2.44023342e+01,  3.09761834e+00],\n       [ 3.83708060e-01,  8.12533200e-02,  2.48499468e-01,\n         7.04792677e-04,  2.79773690e+03,  3.55754333e+05,\n         2.84764292e+03,  1.05961888e+05,  6.22039572e+03,\n         1.80148297e+06,  1.07137296e-01,  1.75453194e-03,\n        -2.31531124e+01,  1.01441931e+03,  7.02631836e+01,\n         3.40169250e+02,  3.82397985e+00,  2.36588669e+02,\n         2.83301563e+01,  1.35620834e+02,  1.37657309e+01,\n         1.11272858e+02,  5.72693157e+00,  1.07648254e+02,\n         3.98102355e+00,  8.61055756e+01,  7.45251036e+00,\n         6.32943459e+01,  2.65091920e+00,  6.10925751e+01,\n         8.49851513e+00,  7.24501495e+01, -2.28590369e+00,\n         7.31584167e+01,  2.08044004e+00,  4.19216385e+01,\n        -3.38020778e+00,  6.27595901e+01,  5.12436438e+00,\n         5.05392456e+01, -1.77486926e-01,  5.19825363e+01,\n         3.61100793e-01,  6.87383347e+01,  5.85364163e-01,\n         5.41612549e+01,  4.02805710e+00,  7.40877380e+01,\n         9.28209126e-01,  6.87056046e+01,  4.09014368e+00],\n       [ 2.08751574e-01,  8.60415548e-02,  9.46366116e-02,\n         2.69185635e-03,  9.76691592e+02,  2.61171317e+05,\n         1.26321606e+03,  2.11062188e+05,  1.53451572e+03,\n         8.57256051e+05,  5.00442930e-02,  2.18413764e-03,\n        -2.90740112e+02,  7.88133740e+03,  1.54039078e+02,\n         8.39596191e+02,  7.79366732e+00,  6.56091797e+02,\n         1.26128931e+01,  2.25602219e+02, -2.07861972e+00,\n         1.19586418e+02,  6.94597483e+00,  9.72148056e+01,\n        -1.16884394e+01,  9.37402802e+01, -1.69291954e+01,\n         1.13645973e+02, -1.56161652e+01,  8.91618118e+01,\n        -9.20767307e+00,  9.31713409e+01, -8.72970104e+00,\n         1.20187576e+02, -6.24831009e+00,  1.20924835e+02,\n        -9.05318642e+00,  9.72091141e+01, -8.86058998e+00,\n         1.03598236e+02, -4.26956511e+00,  1.53249954e+02,\n        -2.26553082e+00,  1.04791649e+02,  1.50049806e+00,\n         1.38381638e+02,  1.37198126e+00,  1.38501846e+02,\n        -6.80320144e-01,  1.08932625e+02,  2.70371586e-01],\n       [ 3.38958442e-01,  8.73623937e-02,  1.16227567e-01,\n         2.32438790e-03,  1.78967279e+03,  3.44021655e+05,\n         2.04196403e+03,  1.30313198e+05,  3.66506653e+03,\n         1.58814013e+06,  8.03878500e-02,  2.01393521e-03,\n        -1.50721542e+02,  4.54210498e+03,  1.08669670e+02,\n         8.47539612e+02, -1.22010021e+01,  2.90519745e+02,\n         2.70815277e+01,  1.33467560e+02,  4.57248831e+00,\n         7.18794479e+01,  1.59475870e+01,  6.85920410e+01,\n        -5.84354448e+00,  5.71966820e+01,  9.37195778e+00,\n         6.27805099e+01, -3.61147594e+00,  6.22158585e+01,\n        -5.34271598e-01,  7.75342331e+01, -2.70801163e+00,\n         9.51081238e+01,  3.51526713e+00,  5.94217949e+01,\n        -1.02551246e+00,  7.20539093e+01,  2.25446081e+00,\n         5.81492157e+01, -4.59922075e+00,  1.35079605e+02,\n         3.19045019e+00,  1.19261002e+02, -1.29323888e+00,\n         1.11640648e+02,  1.19776237e+00,  7.19905167e+01,\n        -3.44264936e+00,  1.10102531e+02,  5.27369022e+00],\n       [ 3.49943221e-01,  8.87596533e-02,  1.30224630e-01,\n         2.82888883e-03,  1.78442045e+03,  1.29789689e+05,\n         2.00265019e+03,  8.58970372e+04,  3.80648532e+03,\n         9.01661926e+05,  8.30663911e-02,  7.66734295e-04,\n        -1.13596748e+02,  2.56530273e+03,  1.21557297e+02,\n         2.95871277e+02, -1.91588249e+01,  2.35646500e+02,\n         4.23510323e+01,  1.50918350e+02, -6.37645817e+00,\n         1.67886444e+02,  1.86188755e+01,  8.92232513e+01,\n        -1.36979122e+01,  6.76512070e+01,  1.53446312e+01,\n         6.89821243e+01, -1.22852669e+01,  8.21129150e+01,\n         1.09804916e+01,  6.34176064e+01, -8.32432461e+00,\n         6.18132629e+01,  8.81066895e+00,  5.12283630e+01,\n        -3.66736794e+00,  4.12446442e+01,  5.75169086e+00,\n         4.05651474e+01, -5.16276264e+00,  4.98139229e+01,\n         7.50947773e-01,  5.24591942e+01, -1.69193780e+00,\n         3.65506706e+01, -4.09952581e-01,  4.16427765e+01,\n        -2.30020881e+00,  5.50950623e+01,  1.21992850e+00],\n       [ 2.52391070e-01,  8.41569006e-02,  3.62548903e-02,\n         2.20805872e-04,  1.50529901e+03,  4.44689135e+04,\n         1.55895285e+03,  4.37107958e+04,  2.71700857e+03,\n         2.98990839e+05,  9.82450597e-02,  4.30886449e-04,\n        -2.68155945e+02,  1.79173767e+03,  1.35689575e+02,\n         1.89190735e+02, -3.40706291e+01,  2.31184982e+02,\n         2.56308289e+01,  1.69057175e+02, -1.29695120e+01,\n         7.14386826e+01,  1.78919449e+01,  7.46072083e+01,\n        -9.99648285e+00,  1.14800179e+02,  5.62805128e+00,\n         6.58944550e+01, -1.41424150e+01,  7.55972290e+01,\n         7.49835157e+00,  1.77081482e+02, -3.96159959e+00,\n         1.06848854e+02,  8.26125526e+00,  8.01840210e+01,\n        -1.35293305e+00,  1.54262772e+02, -3.82257909e-01,\n         1.88077301e+02,  1.03176391e+00,  1.71843399e+02,\n         3.80718708e+00,  8.59222717e+01, -3.03796440e-01,\n         1.00509796e+02,  1.77855694e+00,  9.54748993e+01,\n         8.90327573e-01,  9.72041168e+01, -8.37884367e-01]])"
     },
     "execution_count": 221,
     "metadata": {},
     "output_type": "execute_result"
    }
   ],
   "source": [
    "print('in_arr:')\n",
    "in_arr"
   ],
   "metadata": {
    "collapsed": false,
    "pycharm": {
     "name": "#%%\n"
    }
   }
  },
  {
   "cell_type": "code",
   "execution_count": 224,
   "outputs": [
    {
     "name": "stdout",
     "output_type": "stream",
     "text": [
      "(7, 51)\n",
      "(200, 51)\n"
     ]
    }
   ],
   "source": [
    "print(in_arr.shape)\n",
    "print(X_test.shape)\n"
   ],
   "metadata": {
    "collapsed": false,
    "pycharm": {
     "name": "#%%\n"
    }
   }
  },
  {
   "cell_type": "code",
   "execution_count": 225,
   "metadata": {},
   "outputs": [
    {
     "name": "stdout",
     "output_type": "stream",
     "text": [
      "WARNING:tensorflow:7 out of the last 8 calls to <function Model.make_predict_function.<locals>.predict_function at 0x7fe8663e4ca0> triggered tf.function retracing. Tracing is expensive and the excessive number of tracings could be due to (1) creating @tf.function repeatedly in a loop, (2) passing tensors with different shapes, (3) passing Python objects instead of tensors. For (1), please define your @tf.function outside of the loop. For (2), @tf.function has experimental_relax_shapes=True option that relaxes argument shapes that can avoid unnecessary retracing. For (3), please refer to https://www.tensorflow.org/guide/function#controlling_retracing and https://www.tensorflow.org/api_docs/python/tf/function for  more details.\n"
     ]
    }
   ],
   "source": [
    "predictions = model.predict(arr)"
   ]
  },
  {
   "cell_type": "code",
   "execution_count": 226,
   "metadata": {},
   "outputs": [
    {
     "name": "stdout",
     "output_type": "stream",
     "text": [
      "Here's the prediction strengths of each genre\n"
     ]
    },
    {
     "data": {
      "text/plain": "array([1.2254246e-12, 2.7869546e-10, 4.1412273e-12, 3.6798634e-03,\n       9.9631482e-01, 6.2377772e-12, 2.4131002e-06, 6.1520407e-09,\n       4.9883408e-07, 2.4884396e-06], dtype=float32)"
     },
     "execution_count": 226,
     "metadata": {},
     "output_type": "execute_result"
    }
   ],
   "source": [
    "print(\"Here's the prediction strengths of each genre\")\n",
    "predictions[0]"
   ]
  },
  {
   "cell_type": "code",
   "execution_count": 227,
   "metadata": {},
   "outputs": [
    {
     "data": {
      "text/plain": "1.0000001"
     },
     "execution_count": 227,
     "metadata": {},
     "output_type": "execute_result"
    }
   ],
   "source": [
    "np.sum(predictions[0]) # chesk to add to 1"
   ]
  },
  {
   "cell_type": "code",
   "execution_count": 228,
   "metadata": {},
   "outputs": [
    {
     "data": {
      "text/plain": "6"
     },
     "execution_count": 228,
     "metadata": {},
     "output_type": "execute_result"
    }
   ],
   "source": [
    "# predictions holds each song\n",
    "np.argmax(predictions[1])  # the genre"
   ]
  },
  {
   "cell_type": "code",
   "execution_count": 230,
   "metadata": {},
   "outputs": [
    {
     "name": "stdout",
     "output_type": "stream",
     "text": [
      "The predicted genre for hiphop.00000.wav is blues!\n",
      "\n",
      "The predicted genre for metal.00019.wav is blues!\n",
      "\n",
      "The predicted genre for country.00000.wav is blues!\n",
      "\n",
      "The predicted genre for forward.wav is blues!\n",
      "\n",
      "The predicted genre for gangplank_galleon.wav is blues!\n",
      "\n",
      "The predicted genre for blues.00000.wav is blues!\n",
      "\n",
      "The predicted genre for classical.00000.wav is blues!\n",
      "\n"
     ]
    }
   ],
   "source": [
    "\n",
    "for i in range(len(tracks)):\n",
    "    print(\"The predicted genre for \" + str(tracks[i]) + \" is \" +str(genre_list[ np.argmax(predictions[i]) ])+ \"!\\n\")"
   ]
  }
 ],
 "metadata": {
  "kernelspec": {
   "display_name": "Python 3",
   "language": "python",
   "name": "python3"
  },
  "language_info": {
   "codemirror_mode": {
    "name": "ipython",
    "version": 3
   },
   "file_extension": ".py",
   "mimetype": "text/x-python",
   "name": "python",
   "nbconvert_exporter": "python",
   "pygments_lexer": "ipython3",
   "version": "3.8.5"
  }
 },
 "nbformat": 4,
 "nbformat_minor": 4
}