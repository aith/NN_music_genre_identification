{
 "cells": [
  {
   "cell_type": "code",
   "execution_count": 348,
   "metadata": {},
   "outputs": [],
   "source": [
    "# feature extraction and data preprocessing\n",
    "import librosa\n",
    "import pandas as pd\n",
    "import numpy as np\n",
    "import matplotlib.pyplot as plt\n",
    "%matplotlib inline\n",
    "import os\n",
    "from PIL import Image\n",
    "import pathlib\n",
    "import csv\n",
    "import numpy as np\n",
    "import IPython.display as ipd\n",
    "\n",
    "# Preprocessing\n",
    "from sklearn.model_selection import train_test_split\n",
    "from sklearn.preprocessing import LabelEncoder, StandardScaler\n",
    "\n",
    "#Keras\n",
    "import keras\n",
    "\n",
    "import warnings\n",
    "warnings.filterwarnings('ignore')"
   ]
  },
  {
   "cell_type": "markdown",
   "metadata": {},
   "source": [
    "# Acquire and Prepare Dataset\n",
    "- Read in audio features from the GTZAN dataset. (download from: https://www.kaggle.com/andradaolteanu/gtzan-dataset-music-genre-classification)"
   ]
  },
  {
   "cell_type": "code",
   "execution_count": 349,
   "metadata": {},
   "outputs": [
    {
     "data": {
      "text/plain": "          filename  length  chroma_stft_mean  chroma_stft_var  rms_mean  \\\n0  blues.00000.wav  661794          0.350088         0.088757  0.130228   \n1  blues.00001.wav  661794          0.340914         0.094980  0.095948   \n2  blues.00002.wav  661794          0.363637         0.085275  0.175570   \n3  blues.00003.wav  661794          0.404785         0.093999  0.141093   \n4  blues.00004.wav  661794          0.308526         0.087841  0.091529   \n\n    rms_var  spectral_centroid_mean  spectral_centroid_var  \\\n0  0.002827             1784.165850          129774.064525   \n1  0.002373             1530.176679          375850.073649   \n2  0.002746             1552.811865          156467.643368   \n3  0.006346             1070.106615          184355.942417   \n4  0.002303             1835.004266          343399.939274   \n\n   spectral_bandwidth_mean  spectral_bandwidth_var  ...  mfcc16_var  \\\n0              2002.449060            85882.761315  ...   52.420910   \n1              2039.036516           213843.755497  ...   55.356403   \n2              1747.702312            76254.192257  ...   40.598766   \n3              1596.412872           166441.494769  ...   44.427753   \n4              1748.172116            88445.209036  ...   86.099236   \n\n   mfcc17_mean  mfcc17_var  mfcc18_mean  mfcc18_var  mfcc19_mean  mfcc19_var  \\\n0    -1.690215   36.524071    -0.408979   41.597103    -2.303523   55.062923   \n1    -0.731125   60.314529     0.295073   48.120598    -0.283518   51.106190   \n2    -7.729093   47.639427    -1.816407   52.382141    -3.439720   46.639660   \n3    -3.319597   50.206673     0.636965   37.319130    -0.619121   37.259739   \n4    -5.454034   75.269707    -0.916874   53.613918    -4.404827   62.910812   \n\n   mfcc20_mean  mfcc20_var  label  \n0     1.221291   46.936035  blues  \n1     0.531217   45.786282  blues  \n2    -2.231258   30.573025  blues  \n3    -3.407448   31.949339  blues  \n4   -11.703234   55.195160  blues  \n\n[5 rows x 60 columns]",
      "text/html": "<div>\n<style scoped>\n    .dataframe tbody tr th:only-of-type {\n        vertical-align: middle;\n    }\n\n    .dataframe tbody tr th {\n        vertical-align: top;\n    }\n\n    .dataframe thead th {\n        text-align: right;\n    }\n</style>\n<table border=\"1\" class=\"dataframe\">\n  <thead>\n    <tr style=\"text-align: right;\">\n      <th></th>\n      <th>filename</th>\n      <th>length</th>\n      <th>chroma_stft_mean</th>\n      <th>chroma_stft_var</th>\n      <th>rms_mean</th>\n      <th>rms_var</th>\n      <th>spectral_centroid_mean</th>\n      <th>spectral_centroid_var</th>\n      <th>spectral_bandwidth_mean</th>\n      <th>spectral_bandwidth_var</th>\n      <th>...</th>\n      <th>mfcc16_var</th>\n      <th>mfcc17_mean</th>\n      <th>mfcc17_var</th>\n      <th>mfcc18_mean</th>\n      <th>mfcc18_var</th>\n      <th>mfcc19_mean</th>\n      <th>mfcc19_var</th>\n      <th>mfcc20_mean</th>\n      <th>mfcc20_var</th>\n      <th>label</th>\n    </tr>\n  </thead>\n  <tbody>\n    <tr>\n      <th>0</th>\n      <td>blues.00000.wav</td>\n      <td>661794</td>\n      <td>0.350088</td>\n      <td>0.088757</td>\n      <td>0.130228</td>\n      <td>0.002827</td>\n      <td>1784.165850</td>\n      <td>129774.064525</td>\n      <td>2002.449060</td>\n      <td>85882.761315</td>\n      <td>...</td>\n      <td>52.420910</td>\n      <td>-1.690215</td>\n      <td>36.524071</td>\n      <td>-0.408979</td>\n      <td>41.597103</td>\n      <td>-2.303523</td>\n      <td>55.062923</td>\n      <td>1.221291</td>\n      <td>46.936035</td>\n      <td>blues</td>\n    </tr>\n    <tr>\n      <th>1</th>\n      <td>blues.00001.wav</td>\n      <td>661794</td>\n      <td>0.340914</td>\n      <td>0.094980</td>\n      <td>0.095948</td>\n      <td>0.002373</td>\n      <td>1530.176679</td>\n      <td>375850.073649</td>\n      <td>2039.036516</td>\n      <td>213843.755497</td>\n      <td>...</td>\n      <td>55.356403</td>\n      <td>-0.731125</td>\n      <td>60.314529</td>\n      <td>0.295073</td>\n      <td>48.120598</td>\n      <td>-0.283518</td>\n      <td>51.106190</td>\n      <td>0.531217</td>\n      <td>45.786282</td>\n      <td>blues</td>\n    </tr>\n    <tr>\n      <th>2</th>\n      <td>blues.00002.wav</td>\n      <td>661794</td>\n      <td>0.363637</td>\n      <td>0.085275</td>\n      <td>0.175570</td>\n      <td>0.002746</td>\n      <td>1552.811865</td>\n      <td>156467.643368</td>\n      <td>1747.702312</td>\n      <td>76254.192257</td>\n      <td>...</td>\n      <td>40.598766</td>\n      <td>-7.729093</td>\n      <td>47.639427</td>\n      <td>-1.816407</td>\n      <td>52.382141</td>\n      <td>-3.439720</td>\n      <td>46.639660</td>\n      <td>-2.231258</td>\n      <td>30.573025</td>\n      <td>blues</td>\n    </tr>\n    <tr>\n      <th>3</th>\n      <td>blues.00003.wav</td>\n      <td>661794</td>\n      <td>0.404785</td>\n      <td>0.093999</td>\n      <td>0.141093</td>\n      <td>0.006346</td>\n      <td>1070.106615</td>\n      <td>184355.942417</td>\n      <td>1596.412872</td>\n      <td>166441.494769</td>\n      <td>...</td>\n      <td>44.427753</td>\n      <td>-3.319597</td>\n      <td>50.206673</td>\n      <td>0.636965</td>\n      <td>37.319130</td>\n      <td>-0.619121</td>\n      <td>37.259739</td>\n      <td>-3.407448</td>\n      <td>31.949339</td>\n      <td>blues</td>\n    </tr>\n    <tr>\n      <th>4</th>\n      <td>blues.00004.wav</td>\n      <td>661794</td>\n      <td>0.308526</td>\n      <td>0.087841</td>\n      <td>0.091529</td>\n      <td>0.002303</td>\n      <td>1835.004266</td>\n      <td>343399.939274</td>\n      <td>1748.172116</td>\n      <td>88445.209036</td>\n      <td>...</td>\n      <td>86.099236</td>\n      <td>-5.454034</td>\n      <td>75.269707</td>\n      <td>-0.916874</td>\n      <td>53.613918</td>\n      <td>-4.404827</td>\n      <td>62.910812</td>\n      <td>-11.703234</td>\n      <td>55.195160</td>\n      <td>blues</td>\n    </tr>\n  </tbody>\n</table>\n<p>5 rows × 60 columns</p>\n</div>"
     },
     "execution_count": 349,
     "metadata": {},
     "output_type": "execute_result"
    }
   ],
   "source": [
    "data = pd.read_csv('DATA/GTZAN/features_30_sec.csv')\n",
    "data.head()"
   ]
  },
  {
   "cell_type": "code",
   "execution_count": 350,
   "metadata": {},
   "outputs": [
    {
     "data": {
      "text/plain": "(1000, 60)"
     },
     "execution_count": 350,
     "metadata": {},
     "output_type": "execute_result"
    }
   ],
   "source": [
    "data.shape"
   ]
  },
  {
   "cell_type": "code",
   "execution_count": 351,
   "metadata": {},
   "outputs": [
    {
     "data": {
      "text/plain": "   chroma_stft_mean  chroma_stft_var  rms_mean   rms_var  \\\n0          0.350088         0.088757  0.130228  0.002827   \n1          0.340914         0.094980  0.095948  0.002373   \n2          0.363637         0.085275  0.175570  0.002746   \n3          0.404785         0.093999  0.141093  0.006346   \n4          0.308526         0.087841  0.091529  0.002303   \n\n   spectral_centroid_mean  spectral_centroid_var  spectral_bandwidth_mean  \\\n0             1784.165850          129774.064525              2002.449060   \n1             1530.176679          375850.073649              2039.036516   \n2             1552.811865          156467.643368              1747.702312   \n3             1070.106615          184355.942417              1596.412872   \n4             1835.004266          343399.939274              1748.172116   \n\n   spectral_bandwidth_var  rolloff_mean   rolloff_var  ...  mfcc16_mean  \\\n0            85882.761315   3805.839606  9.015054e+05  ...     0.752740   \n1           213843.755497   3550.522098  2.977893e+06  ...     0.927998   \n2            76254.192257   3042.260232  7.840345e+05  ...     2.451690   \n3           166441.494769   2184.745799  1.493194e+06  ...     0.780874   \n4            88445.209036   3579.757627  1.572978e+06  ...    -4.520576   \n\n   mfcc16_var  mfcc17_mean  mfcc17_var  mfcc18_mean  mfcc18_var  mfcc19_mean  \\\n0   52.420910    -1.690215   36.524071    -0.408979   41.597103    -2.303523   \n1   55.356403    -0.731125   60.314529     0.295073   48.120598    -0.283518   \n2   40.598766    -7.729093   47.639427    -1.816407   52.382141    -3.439720   \n3   44.427753    -3.319597   50.206673     0.636965   37.319130    -0.619121   \n4   86.099236    -5.454034   75.269707    -0.916874   53.613918    -4.404827   \n\n   mfcc19_var  mfcc20_mean  mfcc20_var  \n0   55.062923     1.221291   46.936035  \n1   51.106190     0.531217   45.786282  \n2   46.639660    -2.231258   30.573025  \n3   37.259739    -3.407448   31.949339  \n4   62.910812   -11.703234   55.195160  \n\n[5 rows x 52 columns]",
      "text/html": "<div>\n<style scoped>\n    .dataframe tbody tr th:only-of-type {\n        vertical-align: middle;\n    }\n\n    .dataframe tbody tr th {\n        vertical-align: top;\n    }\n\n    .dataframe thead th {\n        text-align: right;\n    }\n</style>\n<table border=\"1\" class=\"dataframe\">\n  <thead>\n    <tr style=\"text-align: right;\">\n      <th></th>\n      <th>chroma_stft_mean</th>\n      <th>chroma_stft_var</th>\n      <th>rms_mean</th>\n      <th>rms_var</th>\n      <th>spectral_centroid_mean</th>\n      <th>spectral_centroid_var</th>\n      <th>spectral_bandwidth_mean</th>\n      <th>spectral_bandwidth_var</th>\n      <th>rolloff_mean</th>\n      <th>rolloff_var</th>\n      <th>...</th>\n      <th>mfcc16_mean</th>\n      <th>mfcc16_var</th>\n      <th>mfcc17_mean</th>\n      <th>mfcc17_var</th>\n      <th>mfcc18_mean</th>\n      <th>mfcc18_var</th>\n      <th>mfcc19_mean</th>\n      <th>mfcc19_var</th>\n      <th>mfcc20_mean</th>\n      <th>mfcc20_var</th>\n    </tr>\n  </thead>\n  <tbody>\n    <tr>\n      <th>0</th>\n      <td>0.350088</td>\n      <td>0.088757</td>\n      <td>0.130228</td>\n      <td>0.002827</td>\n      <td>1784.165850</td>\n      <td>129774.064525</td>\n      <td>2002.449060</td>\n      <td>85882.761315</td>\n      <td>3805.839606</td>\n      <td>9.015054e+05</td>\n      <td>...</td>\n      <td>0.752740</td>\n      <td>52.420910</td>\n      <td>-1.690215</td>\n      <td>36.524071</td>\n      <td>-0.408979</td>\n      <td>41.597103</td>\n      <td>-2.303523</td>\n      <td>55.062923</td>\n      <td>1.221291</td>\n      <td>46.936035</td>\n    </tr>\n    <tr>\n      <th>1</th>\n      <td>0.340914</td>\n      <td>0.094980</td>\n      <td>0.095948</td>\n      <td>0.002373</td>\n      <td>1530.176679</td>\n      <td>375850.073649</td>\n      <td>2039.036516</td>\n      <td>213843.755497</td>\n      <td>3550.522098</td>\n      <td>2.977893e+06</td>\n      <td>...</td>\n      <td>0.927998</td>\n      <td>55.356403</td>\n      <td>-0.731125</td>\n      <td>60.314529</td>\n      <td>0.295073</td>\n      <td>48.120598</td>\n      <td>-0.283518</td>\n      <td>51.106190</td>\n      <td>0.531217</td>\n      <td>45.786282</td>\n    </tr>\n    <tr>\n      <th>2</th>\n      <td>0.363637</td>\n      <td>0.085275</td>\n      <td>0.175570</td>\n      <td>0.002746</td>\n      <td>1552.811865</td>\n      <td>156467.643368</td>\n      <td>1747.702312</td>\n      <td>76254.192257</td>\n      <td>3042.260232</td>\n      <td>7.840345e+05</td>\n      <td>...</td>\n      <td>2.451690</td>\n      <td>40.598766</td>\n      <td>-7.729093</td>\n      <td>47.639427</td>\n      <td>-1.816407</td>\n      <td>52.382141</td>\n      <td>-3.439720</td>\n      <td>46.639660</td>\n      <td>-2.231258</td>\n      <td>30.573025</td>\n    </tr>\n    <tr>\n      <th>3</th>\n      <td>0.404785</td>\n      <td>0.093999</td>\n      <td>0.141093</td>\n      <td>0.006346</td>\n      <td>1070.106615</td>\n      <td>184355.942417</td>\n      <td>1596.412872</td>\n      <td>166441.494769</td>\n      <td>2184.745799</td>\n      <td>1.493194e+06</td>\n      <td>...</td>\n      <td>0.780874</td>\n      <td>44.427753</td>\n      <td>-3.319597</td>\n      <td>50.206673</td>\n      <td>0.636965</td>\n      <td>37.319130</td>\n      <td>-0.619121</td>\n      <td>37.259739</td>\n      <td>-3.407448</td>\n      <td>31.949339</td>\n    </tr>\n    <tr>\n      <th>4</th>\n      <td>0.308526</td>\n      <td>0.087841</td>\n      <td>0.091529</td>\n      <td>0.002303</td>\n      <td>1835.004266</td>\n      <td>343399.939274</td>\n      <td>1748.172116</td>\n      <td>88445.209036</td>\n      <td>3579.757627</td>\n      <td>1.572978e+06</td>\n      <td>...</td>\n      <td>-4.520576</td>\n      <td>86.099236</td>\n      <td>-5.454034</td>\n      <td>75.269707</td>\n      <td>-0.916874</td>\n      <td>53.613918</td>\n      <td>-4.404827</td>\n      <td>62.910812</td>\n      <td>-11.703234</td>\n      <td>55.195160</td>\n    </tr>\n  </tbody>\n</table>\n<p>5 rows × 52 columns</p>\n</div>"
     },
     "execution_count": 351,
     "metadata": {},
     "output_type": "execute_result"
    }
   ],
   "source": [
    "# Dropping unneccesary columns\n",
    "genre_list = data.iloc[:, -1]\n",
    "data = data.drop(['filename', 'length',  'harmony_mean', 'harmony_var', 'perceptr_mean', 'perceptr_var', 'tempo'],axis=1)\n",
    "data = data.drop(['label'],axis=1)\n",
    "data.head()"
   ]
  },
  {
   "cell_type": "markdown",
   "metadata": {},
   "source": [
    "### Get the genre list. We'll use it later to calculate the error"
   ]
  },
  {
   "cell_type": "code",
   "execution_count": 352,
   "metadata": {},
   "outputs": [],
   "source": [
    "genres_ordered = ['blues', 'classical', 'country', 'disco', 'hiphop', 'jazz', 'metal', 'pop', 'reggae', 'rock']\n",
    "encoder = LabelEncoder()\n",
    "y = encoder.fit_transform(genre_list)"
   ]
  },
  {
   "cell_type": "code",
   "execution_count": 353,
   "metadata": {},
   "outputs": [
    {
     "data": {
      "text/plain": "array([[-0.35013678,  0.31258717, -0.01068969, ...,  0.00672291,\n        -0.30059734,  0.60406407],\n       [-0.46248155,  1.11757233, -0.53285232, ...,  0.54480563,\n        -0.40708699,  0.42412706],\n       [-0.18422456, -0.13770124,  0.67997762, ..., -0.29593404,\n        -0.52729705, -0.29618888],\n       ...,\n       [ 0.65463736, -1.43198917, -0.75062494, ..., -2.73284378,\n        -0.63865065, -0.26361549],\n       [-0.19833855,  0.66814351, -0.71697762, ..., -0.72271696,\n        -0.5114848 , -0.65064889],\n       [-0.2483391 , -0.05894495, -1.1648952 , ...,  0.08070645,\n         0.16033426,  0.5868411 ]])"
     },
     "execution_count": 353,
     "metadata": {},
     "output_type": "execute_result"
    }
   ],
   "source": [
    "scaler = StandardScaler()\n",
    "X_arr = np.array(data.iloc[:, :-1], dtype = float)\n",
    "X = scaler.fit_transform(X_arr)\n",
    "X"
   ]
  },
  {
   "cell_type": "markdown",
   "source": [
    "# Setup Training vs Testing Data\n",
    "- Dividing data into training and Testing set"
   ],
   "metadata": {
    "collapsed": false
   }
  },
  {
   "cell_type": "code",
   "execution_count": 354,
   "metadata": {},
   "outputs": [],
   "source": [
    "X_train, X_test, y_train, y_test = train_test_split(X, y, test_size=0.2)"
   ]
  },
  {
   "cell_type": "code",
   "execution_count": 355,
   "metadata": {},
   "outputs": [
    {
     "data": {
      "text/plain": "800"
     },
     "execution_count": 355,
     "metadata": {},
     "output_type": "execute_result"
    }
   ],
   "source": [
    "len(y_train)"
   ]
  },
  {
   "cell_type": "code",
   "execution_count": 356,
   "metadata": {},
   "outputs": [
    {
     "data": {
      "text/plain": "200"
     },
     "execution_count": 356,
     "metadata": {},
     "output_type": "execute_result"
    }
   ],
   "source": [
    "len(y_test)"
   ]
  },
  {
   "cell_type": "code",
   "execution_count": 357,
   "metadata": {},
   "outputs": [
    {
     "data": {
      "text/plain": "array([ 0.45415235, -0.96333601,  0.65481871, -0.21442785,  0.19656154,\n       -0.53141412, -0.24617751, -0.67735263,  0.01515206, -0.57699313,\n        0.83327186, -0.25386623,  1.09671953, -0.92857794,  0.22162514,\n       -0.49969816, -1.48256695, -0.27885264, -0.15771986, -0.8324527 ,\n       -2.13549948, -0.76598242,  0.57224818, -0.54446945, -1.62873761,\n       -0.12035316,  0.37244698, -1.07117442, -2.50973435,  0.54443445,\n        1.0492596 , -0.08466683, -1.87797681, -0.79603894,  0.17462611,\n       -0.70303736, -1.54041795, -0.67077808, -0.19485562, -0.41278848,\n       -1.3685084 , -0.62180584,  0.71941436, -0.21872174, -0.7692418 ,\n       -0.67695005,  0.4041564 , -0.17381702, -0.1515229 , -0.68432441,\n        0.19088737])"
     },
     "execution_count": 357,
     "metadata": {},
     "output_type": "execute_result"
    }
   ],
   "source": [
    "X_train[10]"
   ]
  },
  {
   "cell_type": "markdown",
   "metadata": {},
   "source": [
    "# Setup Network Arhitecture\n",
    "- We setup a feed forward deep learning neural network.\n",
    "- It has 5 densely connected layers. The 1st 4 layers have relu activation, and the final layer is softmax.\n",
    "- We have one layer for each genre"
   ]
  },
  {
   "cell_type": "code",
   "execution_count": 358,
   "metadata": {},
   "outputs": [],
   "source": [
    "from keras import models\n",
    "from keras import layers\n",
    "\n",
    "model = models.Sequential()\n",
    "model.add(layers.Dense(512, activation='relu', input_shape=(X_train.shape[1],)))\n",
    "\n",
    "model.add(layers.Dense(256, activation='relu'))\n",
    "\n",
    "model.add(layers.Dense(128, activation='relu'))\n",
    "\n",
    "model.add(layers.Dense(64, activation='relu'))\n",
    "\n",
    "model.add(layers.Dense(10, activation='softmax'))  # Last layer, finds the most probable genre"
   ]
  },
  {
   "cell_type": "markdown",
   "metadata": {},
   "source": [
    "# Define Network Loss and Optimization"
   ]
  },
  {
   "cell_type": "code",
   "execution_count": 359,
   "metadata": {},
   "outputs": [],
   "source": [
    "model.compile(optimizer='adam',\n",
    "              loss='sparse_categorical_crossentropy',\n",
    "              metrics=['accuracy'])"
   ]
  },
  {
   "cell_type": "markdown",
   "metadata": {},
   "source": [
    "# Train the network\n",
    "- We set a batch size of 256 and train for 80 epochs"
   ]
  },
  {
   "cell_type": "code",
   "execution_count": 360,
   "metadata": {},
   "outputs": [
    {
     "name": "stdout",
     "output_type": "stream",
     "text": [
      "Epoch 1/80\n",
      "4/4 [==============================] - 0s 4ms/step - loss: 2.2560 - accuracy: 0.1704\b\b\b\b\b\b\b\b\b\b\b\b\b\b\b\b\b\b\b\b\b\b\b\b\b\b\b\b\b\b\b\b\b\b\b\b\b\b\b\b\b\b\b\b\b\b\b\b\b\b\b\b\b\b\b\b\b\b\b\b\b\b\b\b\b\b\b\b\b\b\b\b\b\b\b\b\n",
      "Epoch 2/80\n",
      "4/4 [==============================] - 0s 4ms/step - loss: 1.9086 - accuracy: 0.3969\b\b\b\b\b\b\b\b\b\b\b\b\b\b\b\b\b\b\b\b\b\b\b\b\b\b\b\b\b\b\b\b\b\b\b\b\b\b\b\b\b\b\b\b\b\b\b\b\b\b\b\b\b\b\b\b\b\b\b\b\b\b\b\b\b\b\b\b\b\b\b\b\b\b\b\b\n",
      "Epoch 3/80\n",
      "4/4 [==============================] - 0s 4ms/step - loss: 1.5957 - accuracy: 0.4978\b\b\b\b\b\b\b\b\b\b\b\b\b\b\b\b\b\b\b\b\b\b\b\b\b\b\b\b\b\b\b\b\b\b\b\b\b\b\b\b\b\b\b\b\b\b\b\b\b\b\b\b\b\b\b\b\b\b\b\b\b\b\b\b\b\b\b\b\b\b\b\b\b\b\b\b\n",
      "Epoch 4/80\n",
      "4/4 [==============================] - 0s 3ms/step - loss: 1.3299 - accuracy: 0.5965\b\b\b\b\b\b\b\b\b\b\b\b\b\b\b\b\b\b\b\b\b\b\b\b\b\b\b\b\b\b\b\b\b\b\b\b\b\b\b\b\b\b\b\b\b\b\b\b\b\b\b\b\b\b\b\b\b\b\b\b\b\b\b\b\b\b\b\b\b\b\b\b\b\b\b\b\n",
      "Epoch 5/80\n",
      "4/4 [==============================] - 0s 3ms/step - loss: 1.1085 - accuracy: 0.6494\b\b\b\b\b\b\b\b\b\b\b\b\b\b\b\b\b\b\b\b\b\b\b\b\b\b\b\b\b\b\b\b\b\b\b\b\b\b\b\b\b\b\b\b\b\b\b\b\b\b\b\b\b\b\b\b\b\b\b\b\b\b\b\b\b\b\b\b\b\b\b\b\b\b\b\b\n",
      "Epoch 6/80\n",
      "4/4 [==============================] - 0s 4ms/step - loss: 0.9412 - accuracy: 0.6991\b\b\b\b\b\b\b\b\b\b\b\b\b\b\b\b\b\b\b\b\b\b\b\b\b\b\b\b\b\b\b\b\b\b\b\b\b\b\b\b\b\b\b\b\b\b\b\b\b\b\b\b\b\b\b\b\b\b\b\b\b\b\b\b\b\b\b\b\b\b\b\b\b\b\b\b\n",
      "Epoch 7/80\n",
      "4/4 [==============================] - 0s 4ms/step - loss: 0.8252 - accuracy: 0.7219\b\b\b\b\b\b\b\b\b\b\b\b\b\b\b\b\b\b\b\b\b\b\b\b\b\b\b\b\b\b\b\b\b\b\b\b\b\b\b\b\b\b\b\b\b\b\b\b\b\b\b\b\b\b\b\b\b\b\b\b\b\b\b\b\b\b\b\b\b\b\b\b\b\b\b\b\n",
      "Epoch 8/80\n",
      "4/4 [==============================] - 0s 4ms/step - loss: 0.7554 - accuracy: 0.7433\b\b\b\b\b\b\b\b\b\b\b\b\b\b\b\b\b\b\b\b\b\b\b\b\b\b\b\b\b\b\b\b\b\b\b\b\b\b\b\b\b\b\b\b\b\b\b\b\b\b\b\b\b\b\b\b\b\b\b\b\b\b\b\b\b\b\b\b\b\b\b\b\b\b\b\b\n",
      "Epoch 9/80\n",
      "4/4 [==============================] - 0s 3ms/step - loss: 0.6607 - accuracy: 0.7829\b\b\b\b\b\b\b\b\b\b\b\b\b\b\b\b\b\b\b\b\b\b\b\b\b\b\b\b\b\b\b\b\b\b\b\b\b\b\b\b\b\b\b\b\b\b\b\b\b\b\b\b\b\b\b\b\b\b\b\b\b\b\b\b\b\b\b\b\b\b\b\b\b\b\b\b\n",
      "Epoch 10/80\n",
      "4/4 [==============================] - 0s 4ms/step - loss: 0.6019 - accuracy: 0.8067\b\b\b\b\b\b\b\b\b\b\b\b\b\b\b\b\b\b\b\b\b\b\b\b\b\b\b\b\b\b\b\b\b\b\b\b\b\b\b\b\b\b\b\b\b\b\b\b\b\b\b\b\b\b\b\b\b\b\b\b\b\b\b\b\b\b\b\b\b\b\b\b\b\b\b\b\n",
      "Epoch 11/80\n",
      "4/4 [==============================] - 0s 4ms/step - loss: 0.5810 - accuracy: 0.8081\b\b\b\b\b\b\b\b\b\b\b\b\b\b\b\b\b\b\b\b\b\b\b\b\b\b\b\b\b\b\b\b\b\b\b\b\b\b\b\b\b\b\b\b\b\b\b\b\b\b\b\b\b\b\b\b\b\b\b\b\b\b\b\b\b\b\b\b\b\b\b\b\b\b\b\b\n",
      "Epoch 12/80\n",
      "4/4 [==============================] - 0s 4ms/step - loss: 0.5742 - accuracy: 0.8132\b\b\b\b\b\b\b\b\b\b\b\b\b\b\b\b\b\b\b\b\b\b\b\b\b\b\b\b\b\b\b\b\b\b\b\b\b\b\b\b\b\b\b\b\b\b\b\b\b\b\b\b\b\b\b\b\b\b\b\b\b\b\b\b\b\b\b\b\b\b\b\b\b\b\b\b\n",
      "Epoch 13/80\n",
      "4/4 [==============================] - 0s 3ms/step - loss: 0.4857 - accuracy: 0.8433\b\b\b\b\b\b\b\b\b\b\b\b\b\b\b\b\b\b\b\b\b\b\b\b\b\b\b\b\b\b\b\b\b\b\b\b\b\b\b\b\b\b\b\b\b\b\b\b\b\b\b\b\b\b\b\b\b\b\b\b\b\b\b\b\b\b\b\b\b\b\b\b\b\b\b\b\n",
      "Epoch 14/80\n",
      "4/4 [==============================] - 0s 3ms/step - loss: 0.4326 - accuracy: 0.8541\b\b\b\b\b\b\b\b\b\b\b\b\b\b\b\b\b\b\b\b\b\b\b\b\b\b\b\b\b\b\b\b\b\b\b\b\b\b\b\b\b\b\b\b\b\b\b\b\b\b\b\b\b\b\b\b\b\b\b\b\b\b\b\b\b\b\b\b\b\b\b\b\b\b\b\b\n",
      "Epoch 15/80\n",
      "4/4 [==============================] - 0s 4ms/step - loss: 0.3886 - accuracy: 0.8827\b\b\b\b\b\b\b\b\b\b\b\b\b\b\b\b\b\b\b\b\b\b\b\b\b\b\b\b\b\b\b\b\b\b\b\b\b\b\b\b\b\b\b\b\b\b\b\b\b\b\b\b\b\b\b\b\b\b\b\b\b\b\b\b\b\b\b\b\b\b\b\b\b\b\b\b\n",
      "Epoch 16/80\n",
      "4/4 [==============================] - 0s 3ms/step - loss: 0.3592 - accuracy: 0.8889\b\b\b\b\b\b\b\b\b\b\b\b\b\b\b\b\b\b\b\b\b\b\b\b\b\b\b\b\b\b\b\b\b\b\b\b\b\b\b\b\b\b\b\b\b\b\b\b\b\b\b\b\b\b\b\b\b\b\b\b\b\b\b\b\b\b\b\b\b\b\b\b\b\b\b\b\n",
      "Epoch 17/80\n",
      "4/4 [==============================] - 0s 3ms/step - loss: 0.3748 - accuracy: 0.8745\b\b\b\b\b\b\b\b\b\b\b\b\b\b\b\b\b\b\b\b\b\b\b\b\b\b\b\b\b\b\b\b\b\b\b\b\b\b\b\b\b\b\b\b\b\b\b\b\b\b\b\b\b\b\b\b\b\b\b\b\b\b\b\b\b\b\b\b\b\b\b\b\b\b\b\b\n",
      "Epoch 18/80\n",
      "4/4 [==============================] - 0s 3ms/step - loss: 0.3422 - accuracy: 0.8869\b\b\b\b\b\b\b\b\b\b\b\b\b\b\b\b\b\b\b\b\b\b\b\b\b\b\b\b\b\b\b\b\b\b\b\b\b\b\b\b\b\b\b\b\b\b\b\b\b\b\b\b\b\b\b\b\b\b\b\b\b\b\b\b\b\b\b\b\b\b\b\b\b\b\b\b\n",
      "Epoch 19/80\n",
      "4/4 [==============================] - 0s 4ms/step - loss: 0.2876 - accuracy: 0.9065\b\b\b\b\b\b\b\b\b\b\b\b\b\b\b\b\b\b\b\b\b\b\b\b\b\b\b\b\b\b\b\b\b\b\b\b\b\b\b\b\b\b\b\b\b\b\b\b\b\b\b\b\b\b\b\b\b\b\b\b\b\b\b\b\b\b\b\b\b\b\b\b\b\b\b\b\n",
      "Epoch 20/80\n",
      "4/4 [==============================] - 0s 4ms/step - loss: 0.2934 - accuracy: 0.9022\b\b\b\b\b\b\b\b\b\b\b\b\b\b\b\b\b\b\b\b\b\b\b\b\b\b\b\b\b\b\b\b\b\b\b\b\b\b\b\b\b\b\b\b\b\b\b\b\b\b\b\b\b\b\b\b\b\b\b\b\b\b\b\b\b\b\b\b\b\b\b\b\b\b\b\b\n",
      "Epoch 21/80\n",
      "4/4 [==============================] - 0s 4ms/step - loss: 0.2421 - accuracy: 0.9388\b\b\b\b\b\b\b\b\b\b\b\b\b\b\b\b\b\b\b\b\b\b\b\b\b\b\b\b\b\b\b\b\b\b\b\b\b\b\b\b\b\b\b\b\b\b\b\b\b\b\b\b\b\b\b\b\b\b\b\b\b\b\b\b\b\b\b\b\b\b\b\b\b\b\b\b\n",
      "Epoch 22/80\n",
      "4/4 [==============================] - 0s 4ms/step - loss: 0.2239 - accuracy: 0.9393\b\b\b\b\b\b\b\b\b\b\b\b\b\b\b\b\b\b\b\b\b\b\b\b\b\b\b\b\b\b\b\b\b\b\b\b\b\b\b\b\b\b\b\b\b\b\b\b\b\b\b\b\b\b\b\b\b\b\b\b\b\b\b\b\b\b\b\b\b\b\b\b\b\b\b\b\n",
      "Epoch 23/80\n",
      "4/4 [==============================] - 0s 3ms/step - loss: 0.2169 - accuracy: 0.9477\b\b\b\b\b\b\b\b\b\b\b\b\b\b\b\b\b\b\b\b\b\b\b\b\b\b\b\b\b\b\b\b\b\b\b\b\b\b\b\b\b\b\b\b\b\b\b\b\b\b\b\b\b\b\b\b\b\b\b\b\b\b\b\b\b\b\b\b\b\b\b\b\b\b\b\b\n",
      "Epoch 24/80\n",
      "4/4 [==============================] - 0s 3ms/step - loss: 0.1856 - accuracy: 0.9601\b\b\b\b\b\b\b\b\b\b\b\b\b\b\b\b\b\b\b\b\b\b\b\b\b\b\b\b\b\b\b\b\b\b\b\b\b\b\b\b\b\b\b\b\b\b\b\b\b\b\b\b\b\b\b\b\b\b\b\b\b\b\b\b\b\b\b\b\b\b\b\b\b\b\b\b\n",
      "Epoch 25/80\n",
      "4/4 [==============================] - 0s 4ms/step - loss: 0.1787 - accuracy: 0.9534\b\b\b\b\b\b\b\b\b\b\b\b\b\b\b\b\b\b\b\b\b\b\b\b\b\b\b\b\b\b\b\b\b\b\b\b\b\b\b\b\b\b\b\b\b\b\b\b\b\b\b\b\b\b\b\b\b\b\b\b\b\b\b\b\b\b\b\b\b\b\b\b\b\b\b\b\n",
      "Epoch 26/80\n",
      "4/4 [==============================] - 0s 4ms/step - loss: 0.1574 - accuracy: 0.9696\b\b\b\b\b\b\b\b\b\b\b\b\b\b\b\b\b\b\b\b\b\b\b\b\b\b\b\b\b\b\b\b\b\b\b\b\b\b\b\b\b\b\b\b\b\b\b\b\b\b\b\b\b\b\b\b\b\b\b\b\b\b\b\b\b\b\b\b\b\b\b\b\b\b\b\b\n",
      "Epoch 27/80\n",
      "4/4 [==============================] - 0s 4ms/step - loss: 0.1556 - accuracy: 0.9616\b\b\b\b\b\b\b\b\b\b\b\b\b\b\b\b\b\b\b\b\b\b\b\b\b\b\b\b\b\b\b\b\b\b\b\b\b\b\b\b\b\b\b\b\b\b\b\b\b\b\b\b\b\b\b\b\b\b\b\b\b\b\b\b\b\b\b\b\b\b\b\b\b\b\b\b\n",
      "Epoch 28/80\n",
      "4/4 [==============================] - 0s 4ms/step - loss: 0.1215 - accuracy: 0.9746\b\b\b\b\b\b\b\b\b\b\b\b\b\b\b\b\b\b\b\b\b\b\b\b\b\b\b\b\b\b\b\b\b\b\b\b\b\b\b\b\b\b\b\b\b\b\b\b\b\b\b\b\b\b\b\b\b\b\b\b\b\b\b\b\b\b\b\b\b\b\b\b\b\b\b\b\n",
      "Epoch 29/80\n",
      "4/4 [==============================] - 0s 3ms/step - loss: 0.1178 - accuracy: 0.9838\b\b\b\b\b\b\b\b\b\b\b\b\b\b\b\b\b\b\b\b\b\b\b\b\b\b\b\b\b\b\b\b\b\b\b\b\b\b\b\b\b\b\b\b\b\b\b\b\b\b\b\b\b\b\b\b\b\b\b\b\b\b\b\b\b\b\b\b\b\b\b\b\b\b\b\b\n",
      "Epoch 30/80\n",
      "4/4 [==============================] - 0s 4ms/step - loss: 0.1631 - accuracy: 0.9547\b\b\b\b\b\b\b\b\b\b\b\b\b\b\b\b\b\b\b\b\b\b\b\b\b\b\b\b\b\b\b\b\b\b\b\b\b\b\b\b\b\b\b\b\b\b\b\b\b\b\b\b\b\b\b\b\b\b\b\b\b\b\b\b\b\b\b\b\b\b\b\b\b\b\b\b\n",
      "Epoch 31/80\n",
      "4/4 [==============================] - 0s 3ms/step - loss: 0.1000 - accuracy: 0.9796\b\b\b\b\b\b\b\b\b\b\b\b\b\b\b\b\b\b\b\b\b\b\b\b\b\b\b\b\b\b\b\b\b\b\b\b\b\b\b\b\b\b\b\b\b\b\b\b\b\b\b\b\b\b\b\b\b\b\b\b\b\b\b\b\b\b\b\b\b\b\b\b\b\b\b\b\n",
      "Epoch 32/80\n",
      "4/4 [==============================] - 0s 3ms/step - loss: 0.1032 - accuracy: 0.9831\b\b\b\b\b\b\b\b\b\b\b\b\b\b\b\b\b\b\b\b\b\b\b\b\b\b\b\b\b\b\b\b\b\b\b\b\b\b\b\b\b\b\b\b\b\b\b\b\b\b\b\b\b\b\b\b\b\b\b\b\b\b\b\b\b\b\b\b\b\b\b\b\b\b\b\b\n",
      "Epoch 33/80\n",
      "4/4 [==============================] - 0s 3ms/step - loss: 0.0976 - accuracy: 0.9806\b\b\b\b\b\b\b\b\b\b\b\b\b\b\b\b\b\b\b\b\b\b\b\b\b\b\b\b\b\b\b\b\b\b\b\b\b\b\b\b\b\b\b\b\b\b\b\b\b\b\b\b\b\b\b\b\b\b\b\b\b\b\b\b\b\b\b\b\b\b\b\b\b\b\b\b\n",
      "Epoch 34/80\n",
      "4/4 [==============================] - 0s 3ms/step - loss: 0.0727 - accuracy: 0.9911\b\b\b\b\b\b\b\b\b\b\b\b\b\b\b\b\b\b\b\b\b\b\b\b\b\b\b\b\b\b\b\b\b\b\b\b\b\b\b\b\b\b\b\b\b\b\b\b\b\b\b\b\b\b\b\b\b\b\b\b\b\b\b\b\b\b\b\b\b\b\b\b\b\b\b\b\n",
      "Epoch 35/80\n",
      "4/4 [==============================] - 0s 4ms/step - loss: 0.0712 - accuracy: 0.9942\b\b\b\b\b\b\b\b\b\b\b\b\b\b\b\b\b\b\b\b\b\b\b\b\b\b\b\b\b\b\b\b\b\b\b\b\b\b\b\b\b\b\b\b\b\b\b\b\b\b\b\b\b\b\b\b\b\b\b\b\b\b\b\b\b\b\b\b\b\b\b\b\b\b\b\b\n",
      "Epoch 36/80\n",
      "4/4 [==============================] - 0s 4ms/step - loss: 0.0702 - accuracy: 0.9893\b\b\b\b\b\b\b\b\b\b\b\b\b\b\b\b\b\b\b\b\b\b\b\b\b\b\b\b\b\b\b\b\b\b\b\b\b\b\b\b\b\b\b\b\b\b\b\b\b\b\b\b\b\b\b\b\b\b\b\b\b\b\b\b\b\b\b\b\b\b\b\b\b\b\b\b\n",
      "Epoch 37/80\n",
      "4/4 [==============================] - 0s 4ms/step - loss: 0.0553 - accuracy: 0.9958\b\b\b\b\b\b\b\b\b\b\b\b\b\b\b\b\b\b\b\b\b\b\b\b\b\b\b\b\b\b\b\b\b\b\b\b\b\b\b\b\b\b\b\b\b\b\b\b\b\b\b\b\b\b\b\b\b\b\b\b\b\b\b\b\b\b\b\b\b\b\b\b\b\b\b\b\n",
      "Epoch 38/80\n",
      "4/4 [==============================] - 0s 3ms/step - loss: 0.0554 - accuracy: 0.9908\b\b\b\b\b\b\b\b\b\b\b\b\b\b\b\b\b\b\b\b\b\b\b\b\b\b\b\b\b\b\b\b\b\b\b\b\b\b\b\b\b\b\b\b\b\b\b\b\b\b\b\b\b\b\b\b\b\b\b\b\b\b\b\b\b\b\b\b\b\b\b\b\b\b\b\b\n",
      "Epoch 39/80\n",
      "4/4 [==============================] - 0s 4ms/step - loss: 0.0480 - accuracy: 0.9939\b\b\b\b\b\b\b\b\b\b\b\b\b\b\b\b\b\b\b\b\b\b\b\b\b\b\b\b\b\b\b\b\b\b\b\b\b\b\b\b\b\b\b\b\b\b\b\b\b\b\b\b\b\b\b\b\b\b\b\b\b\b\b\b\b\b\b\b\b\b\b\b\b\b\b\b\n",
      "Epoch 40/80\n",
      "4/4 [==============================] - 0s 3ms/step - loss: 0.0458 - accuracy: 0.9973\b\b\b\b\b\b\b\b\b\b\b\b\b\b\b\b\b\b\b\b\b\b\b\b\b\b\b\b\b\b\b\b\b\b\b\b\b\b\b\b\b\b\b\b\b\b\b\b\b\b\b\b\b\b\b\b\b\b\b\b\b\b\b\b\b\b\b\b\b\b\b\b\b\b\b\b\n",
      "Epoch 41/80\n",
      "4/4 [==============================] - 0s 3ms/step - loss: 0.0386 - accuracy: 0.9958\b\b\b\b\b\b\b\b\b\b\b\b\b\b\b\b\b\b\b\b\b\b\b\b\b\b\b\b\b\b\b\b\b\b\b\b\b\b\b\b\b\b\b\b\b\b\b\b\b\b\b\b\b\b\b\b\b\b\b\b\b\b\b\b\b\b\b\b\b\b\b\b\b\b\b\b\n",
      "Epoch 42/80\n",
      "4/4 [==============================] - 0s 3ms/step - loss: 0.0375 - accuracy: 0.9969\b\b\b\b\b\b\b\b\b\b\b\b\b\b\b\b\b\b\b\b\b\b\b\b\b\b\b\b\b\b\b\b\b\b\b\b\b\b\b\b\b\b\b\b\b\b\b\b\b\b\b\b\b\b\b\b\b\b\b\b\b\b\b\b\b\b\b\b\b\b\b\b\b\b\b\b\n",
      "Epoch 43/80\n",
      "4/4 [==============================] - 0s 4ms/step - loss: 0.0300 - accuracy: 0.9977\b\b\b\b\b\b\b\b\b\b\b\b\b\b\b\b\b\b\b\b\b\b\b\b\b\b\b\b\b\b\b\b\b\b\b\b\b\b\b\b\b\b\b\b\b\b\b\b\b\b\b\b\b\b\b\b\b\b\b\b\b\b\b\b\b\b\b\b\b\b\b\b\b\b\b\b\n",
      "Epoch 44/80\n",
      "4/4 [==============================] - 0s 3ms/step - loss: 0.0309 - accuracy: 0.9958\b\b\b\b\b\b\b\b\b\b\b\b\b\b\b\b\b\b\b\b\b\b\b\b\b\b\b\b\b\b\b\b\b\b\b\b\b\b\b\b\b\b\b\b\b\b\b\b\b\b\b\b\b\b\b\b\b\b\b\b\b\b\b\b\b\b\b\b\b\b\b\b\b\b\b\b\n",
      "Epoch 45/80\n",
      "4/4 [==============================] - 0s 3ms/step - loss: 0.0275 - accuracy: 0.9981\b\b\b\b\b\b\b\b\b\b\b\b\b\b\b\b\b\b\b\b\b\b\b\b\b\b\b\b\b\b\b\b\b\b\b\b\b\b\b\b\b\b\b\b\b\b\b\b\b\b\b\b\b\b\b\b\b\b\b\b\b\b\b\b\b\b\b\b\b\b\b\b\b\b\b\b\n",
      "Epoch 46/80\n",
      "4/4 [==============================] - 0s 3ms/step - loss: 0.0345 - accuracy: 0.9962\b\b\b\b\b\b\b\b\b\b\b\b\b\b\b\b\b\b\b\b\b\b\b\b\b\b\b\b\b\b\b\b\b\b\b\b\b\b\b\b\b\b\b\b\b\b\b\b\b\b\b\b\b\b\b\b\b\b\b\b\b\b\b\b\b\b\b\b\b\b\b\b\b\b\b\b\n",
      "Epoch 47/80\n",
      "4/4 [==============================] - 0s 3ms/step - loss: 0.0302 - accuracy: 0.9945\b\b\b\b\b\b\b\b\b\b\b\b\b\b\b\b\b\b\b\b\b\b\b\b\b\b\b\b\b\b\b\b\b\b\b\b\b\b\b\b\b\b\b\b\b\b\b\b\b\b\b\b\b\b\b\b\b\b\b\b\b\b\b\b\b\b\b\b\b\b\b\b\b\b\b\b\n",
      "Epoch 48/80\n",
      "4/4 [==============================] - 0s 3ms/step - loss: 0.0384 - accuracy: 0.9912\b\b\b\b\b\b\b\b\b\b\b\b\b\b\b\b\b\b\b\b\b\b\b\b\b\b\b\b\b\b\b\b\b\b\b\b\b\b\b\b\b\b\b\b\b\b\b\b\b\b\b\b\b\b\b\b\b\b\b\b\b\b\b\b\b\b\b\b\b\b\b\b\b\b\b\b\n",
      "Epoch 49/80\n",
      "4/4 [==============================] - 0s 3ms/step - loss: 0.0280 - accuracy: 0.9954\b\b\b\b\b\b\b\b\b\b\b\b\b\b\b\b\b\b\b\b\b\b\b\b\b\b\b\b\b\b\b\b\b\b\b\b\b\b\b\b\b\b\b\b\b\b\b\b\b\b\b\b\b\b\b\b\b\b\b\b\b\b\b\b\b\b\b\b\b\b\b\b\b\b\b\b\n",
      "Epoch 50/80\n",
      "4/4 [==============================] - 0s 3ms/step - loss: 0.0339 - accuracy: 0.9935\b\b\b\b\b\b\b\b\b\b\b\b\b\b\b\b\b\b\b\b\b\b\b\b\b\b\b\b\b\b\b\b\b\b\b\b\b\b\b\b\b\b\b\b\b\b\b\b\b\b\b\b\b\b\b\b\b\b\b\b\b\b\b\b\b\b\b\b\b\b\b\b\b\b\b\b\n",
      "Epoch 51/80\n",
      "4/4 [==============================] - 0s 3ms/step - loss: 0.0259 - accuracy: 0.9981\b\b\b\b\b\b\b\b\b\b\b\b\b\b\b\b\b\b\b\b\b\b\b\b\b\b\b\b\b\b\b\b\b\b\b\b\b\b\b\b\b\b\b\b\b\b\b\b\b\b\b\b\b\b\b\b\b\b\b\b\b\b\b\b\b\b\b\b\b\b\b\b\b\b\b\b\n",
      "Epoch 52/80\n",
      "4/4 [==============================] - 0s 3ms/step - loss: 0.0271 - accuracy: 0.9969\b\b\b\b\b\b\b\b\b\b\b\b\b\b\b\b\b\b\b\b\b\b\b\b\b\b\b\b\b\b\b\b\b\b\b\b\b\b\b\b\b\b\b\b\b\b\b\b\b\b\b\b\b\b\b\b\b\b\b\b\b\b\b\b\b\b\b\b\b\b\b\b\b\b\b\b\n",
      "Epoch 53/80\n",
      "4/4 [==============================] - 0s 3ms/step - loss: 0.0227 - accuracy: 0.9988\b\b\b\b\b\b\b\b\b\b\b\b\b\b\b\b\b\b\b\b\b\b\b\b\b\b\b\b\b\b\b\b\b\b\b\b\b\b\b\b\b\b\b\b\b\b\b\b\b\b\b\b\b\b\b\b\b\b\b\b\b\b\b\b\b\b\b\b\b\b\b\b\b\b\b\b\n",
      "Epoch 54/80\n",
      "4/4 [==============================] - 0s 3ms/step - loss: 0.0174 - accuracy: 0.9988\b\b\b\b\b\b\b\b\b\b\b\b\b\b\b\b\b\b\b\b\b\b\b\b\b\b\b\b\b\b\b\b\b\b\b\b\b\b\b\b\b\b\b\b\b\b\b\b\b\b\b\b\b\b\b\b\b\b\b\b\b\b\b\b\b\b\b\b\b\b\b\b\b\b\b\b\n",
      "Epoch 55/80\n",
      "4/4 [==============================] - 0s 3ms/step - loss: 0.0164 - accuracy: 0.9981\b\b\b\b\b\b\b\b\b\b\b\b\b\b\b\b\b\b\b\b\b\b\b\b\b\b\b\b\b\b\b\b\b\b\b\b\b\b\b\b\b\b\b\b\b\b\b\b\b\b\b\b\b\b\b\b\b\b\b\b\b\b\b\b\b\b\b\b\b\b\b\b\b\b\b\b\n",
      "Epoch 56/80\n",
      "4/4 [==============================] - 0s 3ms/step - loss: 0.0130 - accuracy: 0.9992\b\b\b\b\b\b\b\b\b\b\b\b\b\b\b\b\b\b\b\b\b\b\b\b\b\b\b\b\b\b\b\b\b\b\b\b\b\b\b\b\b\b\b\b\b\b\b\b\b\b\b\b\b\b\b\b\b\b\b\b\b\b\b\b\b\b\b\b\b\b\b\b\b\b\b\b\n",
      "Epoch 57/80\n",
      "4/4 [==============================] - 0s 4ms/step - loss: 0.0151 - accuracy: 0.9981\b\b\b\b\b\b\b\b\b\b\b\b\b\b\b\b\b\b\b\b\b\b\b\b\b\b\b\b\b\b\b\b\b\b\b\b\b\b\b\b\b\b\b\b\b\b\b\b\b\b\b\b\b\b\b\b\b\b\b\b\b\b\b\b\b\b\b\b\b\b\b\b\b\b\b\b\n",
      "Epoch 58/80\n",
      "4/4 [==============================] - 0s 4ms/step - loss: 0.0121 - accuracy: 0.9981\b\b\b\b\b\b\b\b\b\b\b\b\b\b\b\b\b\b\b\b\b\b\b\b\b\b\b\b\b\b\b\b\b\b\b\b\b\b\b\b\b\b\b\b\b\b\b\b\b\b\b\b\b\b\b\b\b\b\b\b\b\b\b\b\b\b\b\b\b\b\b\b\b\b\b\b\n",
      "Epoch 59/80\n",
      "4/4 [==============================] - 0s 3ms/step - loss: 0.0133 - accuracy: 0.9992\b\b\b\b\b\b\b\b\b\b\b\b\b\b\b\b\b\b\b\b\b\b\b\b\b\b\b\b\b\b\b\b\b\b\b\b\b\b\b\b\b\b\b\b\b\b\b\b\b\b\b\b\b\b\b\b\b\b\b\b\b\b\b\b\b\b\b\b\b\b\b\b\b\b\b\b\n",
      "Epoch 60/80\n",
      "4/4 [==============================] - 0s 3ms/step - loss: 0.0113 - accuracy: 0.9969\b\b\b\b\b\b\b\b\b\b\b\b\b\b\b\b\b\b\b\b\b\b\b\b\b\b\b\b\b\b\b\b\b\b\b\b\b\b\b\b\b\b\b\b\b\b\b\b\b\b\b\b\b\b\b\b\b\b\b\b\b\b\b\b\b\b\b\b\b\b\b\b\b\b\b\b\n",
      "Epoch 61/80\n",
      "4/4 [==============================] - 0s 3ms/step - loss: 0.0112 - accuracy: 0.9988\b\b\b\b\b\b\b\b\b\b\b\b\b\b\b\b\b\b\b\b\b\b\b\b\b\b\b\b\b\b\b\b\b\b\b\b\b\b\b\b\b\b\b\b\b\b\b\b\b\b\b\b\b\b\b\b\b\b\b\b\b\b\b\b\b\b\b\b\b\b\b\b\b\b\b\b\n",
      "Epoch 62/80\n",
      "4/4 [==============================] - 0s 3ms/step - loss: 0.0086 - accuracy: 0.9995\b\b\b\b\b\b\b\b\b\b\b\b\b\b\b\b\b\b\b\b\b\b\b\b\b\b\b\b\b\b\b\b\b\b\b\b\b\b\b\b\b\b\b\b\b\b\b\b\b\b\b\b\b\b\b\b\b\b\b\b\b\b\b\b\b\b\b\b\b\b\b\b\b\b\b\b\n",
      "Epoch 63/80\n",
      "4/4 [==============================] - 0s 3ms/step - loss: 0.0268 - accuracy: 0.9958\b\b\b\b\b\b\b\b\b\b\b\b\b\b\b\b\b\b\b\b\b\b\b\b\b\b\b\b\b\b\b\b\b\b\b\b\b\b\b\b\b\b\b\b\b\b\b\b\b\b\b\b\b\b\b\b\b\b\b\b\b\b\b\b\b\b\b\b\b\b\b\b\b\b\b\b\n",
      "Epoch 64/80\n",
      "4/4 [==============================] - 0s 4ms/step - loss: 0.0157 - accuracy: 0.9983\b\b\b\b\b\b\b\b\b\b\b\b\b\b\b\b\b\b\b\b\b\b\b\b\b\b\b\b\b\b\b\b\b\b\b\b\b\b\b\b\b\b\b\b\b\b\b\b\b\b\b\b\b\b\b\b\b\b\b\b\b\b\b\b\b\b\b\b\b\b\b\b\b\b\b\b\n",
      "Epoch 65/80\n",
      "4/4 [==============================] - 0s 4ms/step - loss: 0.0128 - accuracy: 0.9992\b\b\b\b\b\b\b\b\b\b\b\b\b\b\b\b\b\b\b\b\b\b\b\b\b\b\b\b\b\b\b\b\b\b\b\b\b\b\b\b\b\b\b\b\b\b\b\b\b\b\b\b\b\b\b\b\b\b\b\b\b\b\b\b\b\b\b\b\b\b\b\b\b\b\b\b\n",
      "Epoch 66/80\n",
      "4/4 [==============================] - 0s 3ms/step - loss: 0.0238 - accuracy: 0.9969\b\b\b\b\b\b\b\b\b\b\b\b\b\b\b\b\b\b\b\b\b\b\b\b\b\b\b\b\b\b\b\b\b\b\b\b\b\b\b\b\b\b\b\b\b\b\b\b\b\b\b\b\b\b\b\b\b\b\b\b\b\b\b\b\b\b\b\b\b\b\b\b\b\b\b\b\n",
      "Epoch 67/80\n",
      "4/4 [==============================] - 0s 3ms/step - loss: 0.0104 - accuracy: 0.9995\b\b\b\b\b\b\b\b\b\b\b\b\b\b\b\b\b\b\b\b\b\b\b\b\b\b\b\b\b\b\b\b\b\b\b\b\b\b\b\b\b\b\b\b\b\b\b\b\b\b\b\b\b\b\b\b\b\b\b\b\b\b\b\b\b\b\b\b\b\b\b\b\b\b\b\b\n",
      "Epoch 68/80\n",
      "4/4 [==============================] - 0s 3ms/step - loss: 0.0312 - accuracy: 0.9946\b\b\b\b\b\b\b\b\b\b\b\b\b\b\b\b\b\b\b\b\b\b\b\b\b\b\b\b\b\b\b\b\b\b\b\b\b\b\b\b\b\b\b\b\b\b\b\b\b\b\b\b\b\b\b\b\b\b\b\b\b\b\b\b\b\b\b\b\b\b\b\b\b\b\b\b\n",
      "Epoch 69/80\n",
      "4/4 [==============================] - 0s 4ms/step - loss: 0.0174 - accuracy: 0.9965\b\b\b\b\b\b\b\b\b\b\b\b\b\b\b\b\b\b\b\b\b\b\b\b\b\b\b\b\b\b\b\b\b\b\b\b\b\b\b\b\b\b\b\b\b\b\b\b\b\b\b\b\b\b\b\b\b\b\b\b\b\b\b\b\b\b\b\b\b\b\b\b\b\b\b\b\n",
      "Epoch 70/80\n",
      "4/4 [==============================] - 0s 3ms/step - loss: 0.0259 - accuracy: 0.9930\b\b\b\b\b\b\b\b\b\b\b\b\b\b\b\b\b\b\b\b\b\b\b\b\b\b\b\b\b\b\b\b\b\b\b\b\b\b\b\b\b\b\b\b\b\b\b\b\b\b\b\b\b\b\b\b\b\b\b\b\b\b\b\b\b\b\b\b\b\b\b\b\b\b\b\b\n",
      "Epoch 71/80\n",
      "4/4 [==============================] - 0s 4ms/step - loss: 0.0175 - accuracy: 0.9972\b\b\b\b\b\b\b\b\b\b\b\b\b\b\b\b\b\b\b\b\b\b\b\b\b\b\b\b\b\b\b\b\b\b\b\b\b\b\b\b\b\b\b\b\b\b\b\b\b\b\b\b\b\b\b\b\b\b\b\b\b\b\b\b\b\b\b\b\b\b\b\b\b\b\b\b\n",
      "Epoch 72/80\n",
      "4/4 [==============================] - 0s 3ms/step - loss: 0.0236 - accuracy: 0.9981\b\b\b\b\b\b\b\b\b\b\b\b\b\b\b\b\b\b\b\b\b\b\b\b\b\b\b\b\b\b\b\b\b\b\b\b\b\b\b\b\b\b\b\b\b\b\b\b\b\b\b\b\b\b\b\b\b\b\b\b\b\b\b\b\b\b\b\b\b\b\b\b\b\b\b\b\n",
      "Epoch 73/80\n",
      "4/4 [==============================] - 0s 3ms/step - loss: 0.0374 - accuracy: 0.9900\b\b\b\b\b\b\b\b\b\b\b\b\b\b\b\b\b\b\b\b\b\b\b\b\b\b\b\b\b\b\b\b\b\b\b\b\b\b\b\b\b\b\b\b\b\b\b\b\b\b\b\b\b\b\b\b\b\b\b\b\b\b\b\b\b\b\b\b\b\b\b\b\b\b\b\b\n",
      "Epoch 74/80\n",
      "4/4 [==============================] - 0s 3ms/step - loss: 0.0122 - accuracy: 0.9981\b\b\b\b\b\b\b\b\b\b\b\b\b\b\b\b\b\b\b\b\b\b\b\b\b\b\b\b\b\b\b\b\b\b\b\b\b\b\b\b\b\b\b\b\b\b\b\b\b\b\b\b\b\b\b\b\b\b\b\b\b\b\b\b\b\b\b\b\b\b\b\b\b\b\b\b\n",
      "Epoch 75/80\n",
      "4/4 [==============================] - 0s 4ms/step - loss: 0.0172 - accuracy: 0.9946\b\b\b\b\b\b\b\b\b\b\b\b\b\b\b\b\b\b\b\b\b\b\b\b\b\b\b\b\b\b\b\b\b\b\b\b\b\b\b\b\b\b\b\b\b\b\b\b\b\b\b\b\b\b\b\b\b\b\b\b\b\b\b\b\b\b\b\b\b\b\b\b\b\b\b\b\n",
      "Epoch 76/80\n",
      "4/4 [==============================] - 0s 3ms/step - loss: 0.0096 - accuracy: 0.9992\b\b\b\b\b\b\b\b\b\b\b\b\b\b\b\b\b\b\b\b\b\b\b\b\b\b\b\b\b\b\b\b\b\b\b\b\b\b\b\b\b\b\b\b\b\b\b\b\b\b\b\b\b\b\b\b\b\b\b\b\b\b\b\b\b\b\b\b\b\b\b\b\b\b\b\b\n",
      "Epoch 77/80\n",
      "4/4 [==============================] - 0s 4ms/step - loss: 0.0110 - accuracy: 0.9992\b\b\b\b\b\b\b\b\b\b\b\b\b\b\b\b\b\b\b\b\b\b\b\b\b\b\b\b\b\b\b\b\b\b\b\b\b\b\b\b\b\b\b\b\b\b\b\b\b\b\b\b\b\b\b\b\b\b\b\b\b\b\b\b\b\b\b\b\b\b\b\b\b\b\b\b\n",
      "Epoch 78/80\n",
      "4/4 [==============================] - 0s 4ms/step - loss: 0.0080 - accuracy: 0.9988\b\b\b\b\b\b\b\b\b\b\b\b\b\b\b\b\b\b\b\b\b\b\b\b\b\b\b\b\b\b\b\b\b\b\b\b\b\b\b\b\b\b\b\b\b\b\b\b\b\b\b\b\b\b\b\b\b\b\b\b\b\b\b\b\b\b\b\b\b\b\b\b\b\b\b\b\n",
      "Epoch 79/80\n",
      "4/4 [==============================] - 0s 4ms/step - loss: 0.0087 - accuracy: 0.9981\b\b\b\b\b\b\b\b\b\b\b\b\b\b\b\b\b\b\b\b\b\b\b\b\b\b\b\b\b\b\b\b\b\b\b\b\b\b\b\b\b\b\b\b\b\b\b\b\b\b\b\b\b\b\b\b\b\b\b\b\b\b\b\b\b\b\b\b\b\b\b\b\b\b\b\b\n",
      "Epoch 80/80\n",
      "4/4 [==============================] - 0s 4ms/step - loss: 0.0073 - accuracy: 0.9988\b\b\b\b\b\b\b\b\b\b\b\b\b\b\b\b\b\b\b\b\b\b\b\b\b\b\b\b\b\b\b\b\b\b\b\b\b\b\b\b\b\b\b\b\b\b\b\b\b\b\b\b\b\b\b\b\b\b\b\b\b\b\b\b\b\b\b\b\b\b\b\b\b\b\b\b\n"
     ]
    }
   ],
   "source": [
    "history = model.fit(X_train,\n",
    "                    y_train,\n",
    "                    epochs=80,\n",
    "                    batch_size=256)"
   ]
  },
  {
   "cell_type": "markdown",
   "metadata": {},
   "source": [
    "# Evaluate the model with our testing data"
   ]
  },
  {
   "cell_type": "code",
   "execution_count": 361,
   "metadata": {},
   "outputs": [
    {
     "name": "stdout",
     "output_type": "stream",
     "text": [
      "7/7 [==============================] - 0s 1ms/step - loss: 1.4785 - accuracy: 0.7250\b\b\b\b\b\b\b\b\b\b\b\b\b\b\b\b\b\b\b\b\b\b\b\b\b\b\b\b\b\b\b\b\b\b\b\b\b\b\b\b\b\b\b\b\b\b\b\b\b\b\b\b\b\b\b\b\b\b\b\b\b\b\b\b\b\b\b\b\b\b\b\b\b\b\b\b\n"
     ]
    }
   ],
   "source": [
    "test_loss, test_acc = model.evaluate(X_test,y_test)"
   ]
  },
  {
   "cell_type": "code",
   "execution_count": 362,
   "metadata": {},
   "outputs": [
    {
     "name": "stdout",
     "output_type": "stream",
     "text": [
      "test accuracy:  0.7250000238418579\n"
     ]
    }
   ],
   "source": [
    "print('test accuracy: ',test_acc)"
   ]
  },
  {
   "cell_type": "markdown",
   "metadata": {},
   "source": [
    "# Model Inference\n",
    "- We can now use our model to make predictions for other songs. First, we need to extract audio features from those songs, and put them in a .csv"
   ]
  },
  {
   "cell_type": "code",
   "execution_count": 363,
   "outputs": [],
   "source": [
    "def create_csv(track_name, csv_name):\n",
    "    input_freq_data, sr = librosa.load('./audio/'+track_name, mono=True, duration=30)\n",
    "\n",
    "\n",
    "    chroma_stft = librosa.feature.chroma_stft(y=input_freq_data, sr=sr)\n",
    "    rmse = librosa.feature.rms(y=input_freq_data)\n",
    "    spec_cent = librosa.feature.spectral_centroid(y=input_freq_data, sr=sr)\n",
    "    spec_bw = librosa.feature.spectral_bandwidth(y=input_freq_data, sr=sr)\n",
    "    rolloff = librosa.feature.spectral_rolloff(y=input_freq_data, sr=sr)\n",
    "    zcr = librosa.feature.zero_crossing_rate(input_freq_data)\n",
    "    mfcc = librosa.feature.mfcc(y=input_freq_data, sr=sr)\n",
    "\n",
    "\n",
    "    to_append = f'{track_name[:-4]} {np.mean(chroma_stft)} {np.var(chroma_stft)} {np.mean(rmse)} {np.var(rmse)} {np.mean(spec_cent)} {np.var(spec_cent)} {np.mean(spec_bw)} {np.var(spec_bw)} {np.mean(rolloff)} {np.var(rolloff)} {np.mean(zcr)} {np.var(zcr)}'\n",
    "    for e in mfcc:\n",
    "        to_append += f' {np.mean(e)}'\n",
    "        to_append += f' {np.var(e)}'\n",
    "\n",
    "    file = open(csv_name, 'a', newline='')\n",
    "    with file:\n",
    "        writer = csv.writer(file)\n",
    "        writer.writerow(to_append.split())\n",
    "\n",
    "def create_header(csv_name):\n",
    "    header = 'filename chroma_stft_mean chroma_stft_var rms_mean rms_var spectral_centroid_mean spectral_centroid_var spectral_bandwidth_mean spectral_bandwidth_var rolloff_mean rolloff_var zero_crossing_rate_mean zero_crossing_rate_var'\n",
    "    for i in range(1, 21):\n",
    "        header += f' mfcc{i}_mean'\n",
    "        header += f' mfcc{i}_var'\n",
    "    header += ' label'\n",
    "    header = header.split()\n",
    "\n",
    "    file = open(csv_name, 'w', newline='')\n",
    "    with file:\n",
    "        writer = csv.writer(file)\n",
    "        writer.writerow(header)\n"
   ],
   "metadata": {
    "collapsed": false,
    "pycharm": {
     "name": "#%%\n"
    }
   }
  },
  {
   "cell_type": "code",
   "execution_count": null,
   "outputs": [
    {
     "name": "stdout",
     "output_type": "stream",
     "text": [
      "['stayin_alive_the_begees.wav', 'cliffs_of_dover_eric_johnson.wav', 'forward.wav', 'gangplank_galleon.wav', 'accoustic_guitar.wav', 'moonlight_sonata.wav', '1812_overture.wav', 'subnautica_below_zero.wav', 'bluegrass_riff.wav', 'in_a_sentimental_mood.wav']\n"
     ]
    }
   ],
   "source": [
    "csv_name = 'data.csv'\n",
    "tracks = os.listdir('./audio')\n",
    "# track_name = tracks[2]\n",
    "print(tracks)\n",
    "\n",
    "# Create CSV\n",
    "create_header(csv_name)\n",
    "for track in tracks:\n",
    "    create_csv(track, csv_name)"
   ],
   "metadata": {
    "collapsed": false,
    "pycharm": {
     "name": "#%%\n",
     "is_executing": true
    }
   }
  },
  {
   "cell_type": "markdown",
   "source": [
    "### Now let's read our input data."
   ],
   "metadata": {
    "collapsed": false,
    "pycharm": {
     "name": "#%% md\n"
    }
   }
  },
  {
   "cell_type": "code",
   "execution_count": null,
   "outputs": [],
   "source": [
    "# now let's\n",
    "in_data = None\n",
    "for track in tracks:\n",
    "    in_data = pd.read_csv(csv_name)\n",
    "    in_data = in_data.drop(['filename', 'label'],axis=1)"
   ],
   "metadata": {
    "collapsed": false,
    "pycharm": {
     "name": "#%%\n",
     "is_executing": true
    }
   }
  },
  {
   "cell_type": "code",
   "execution_count": null,
   "outputs": [],
   "source": [
    "print(\"Here's what our input data looks like\")\n",
    "in_data.head()"
   ],
   "metadata": {
    "collapsed": false,
    "pycharm": {
     "name": "#%%\n",
     "is_executing": true
    }
   }
  },
  {
   "cell_type": "code",
   "execution_count": null,
   "outputs": [],
   "source": [
    "in_arr = np.array(in_data.iloc[:, :-1], dtype = float)\n",
    "scaler = StandardScaler()\n",
    "arr = scaler.fit_transform(in_arr)  # THIS NEEDS TO HAVE MORE THAN 1 SONG----- WHAT\n",
    "\n",
    "# arr"
   ],
   "metadata": {
    "collapsed": false,
    "pycharm": {
     "name": "#%%\n",
     "is_executing": true
    }
   }
  },
  {
   "cell_type": "code",
   "execution_count": null,
   "metadata": {
    "pycharm": {
     "is_executing": true
    }
   },
   "outputs": [],
   "source": [
    "predictions = model.predict(arr)"
   ]
  },
  {
   "cell_type": "code",
   "execution_count": null,
   "metadata": {
    "pycharm": {
     "is_executing": true
    }
   },
   "outputs": [],
   "source": [
    "print(\"Here's the prediction strengths of each genre for song 1\")\n",
    "predictions[0]"
   ]
  },
  {
   "cell_type": "code",
   "execution_count": null,
   "metadata": {
    "pycharm": {
     "is_executing": true
    }
   },
   "outputs": [],
   "source": [
    "np.sum(predictions[0]) # checks that add to ~1"
   ]
  },
  {
   "cell_type": "code",
   "execution_count": null,
   "metadata": {
    "pycharm": {
     "is_executing": true
    }
   },
   "outputs": [],
   "source": [
    "for i in range(len(tracks)):\n",
    "    print(\"The predicted genre for \" + str(tracks[i]) + \" is \" +str(genres_ordered[ np.argmax(predictions[i]) ])+ \"!\\n\")"
   ]
  }
 ],
 "metadata": {
  "kernelspec": {
   "display_name": "Python 3",
   "language": "python",
   "name": "python3"
  },
  "language_info": {
   "codemirror_mode": {
    "name": "ipython",
    "version": 3
   },
   "file_extension": ".py",
   "mimetype": "text/x-python",
   "name": "python",
   "nbconvert_exporter": "python",
   "pygments_lexer": "ipython3",
   "version": "3.8.5"
  }
 },
 "nbformat": 4,
 "nbformat_minor": 4
}